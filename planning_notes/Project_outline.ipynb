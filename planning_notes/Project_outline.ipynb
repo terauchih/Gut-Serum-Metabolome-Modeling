{
 "cells": [
  {
   "cell_type": "markdown",
   "metadata": {},
   "source": [
    "# Project outlilne for making stub functions"
   ]
  },
  {
   "cell_type": "markdown",
   "metadata": {},
   "source": [
    "1. input_1: 16S bacteria identities\n",
    "    * RegEx/Pandas to extract and format the necessary info    \n",
    "    \n",
    "\n",
    "2. input_2: metabolic pathway/product interaction info (MetaCyc)\n",
    "    * web-scraping? \n",
    "    * place holder in mean time  \n",
    "    \n",
    "    \n",
    "3. network analysis: networkx  \n",
    "\n",
    "\n",
    "4. plots/figures: resulting network visualizations  \n",
    "    1. network figure\n",
    "    2. fluctuation/amount graph for specific bacteria/metabolite  \n",
    "    \n",
    "    \n",
    "5. Fluctuation over time:\n",
    "    * animate the flux in real time\n",
    "    * make the amount graph fluctuate as well "
   ]
  },
  {
   "cell_type": "markdown",
   "metadata": {},
   "source": [
    "## 1. input_1: 16S taxa\n",
    " - in: 16S result\n",
    " - out: formatted taxa to pair with 2"
   ]
  },
  {
   "cell_type": "code",
   "execution_count": null,
   "metadata": {},
   "outputs": [],
   "source": [
    "def extract_bacterial_taxa(myTaxa, level='all'):\n",
    "    \"\"\"\n",
    "    Extracts bacterial taxa at the specified level.\n",
    "    \n",
    "    input: \n",
    "    cleaned up 16S rRNA sequencing result produced with \n",
    "    Illumina amplicon sequencing and QIIME2\n",
    "    \n",
    "    keyword arguments:\n",
    "    level -- desired taxonomy level to extract from 16S input (default 'all')\n",
    "    \n",
    "    \"\"\"\n",
    "    \n",
    "    # read in the taxa section of myTaxa \n",
    "    \n",
    "    # separate at specified taxonomy level \n",
    "    \n",
    "    # Possibly attatch the relative abundance value (maybe log2?)\n",
    "    \n",
    "    return \"probably a new pandas dataframe with the selected taxa\"\n",
    "\n",
    "\n"
   ]
  },
  {
   "cell_type": "markdown",
   "metadata": {},
   "source": [
    "## 2. input_2:\n",
    "- in: metabolic pathway info from MetaCyc\n",
    "- out: pathways for bacteria that could match the output from 1"
   ]
  },
  {
   "cell_type": "code",
   "execution_count": null,
   "metadata": {},
   "outputs": [],
   "source": [
    "def get_metabolic_pathways():\n",
    "    \"\"\"\n",
    "    Getting metabolic pathways from MetaCyc.\n",
    "    \n",
    "    \"\"\"\n",
    "    \n",
    "    # not sure how this is gonna work for now\n",
    "    # may or maynot be web scraping\n",
    "    \n",
    "    return \"the pathway file as a pandas dataframe\""
   ]
  },
  {
   "cell_type": "markdown",
   "metadata": {},
   "source": [
    "## 3. network analysis:\n",
    "- in: outputs from 1 and 2 (taxa and metabolic pathway)\n",
    "- out: network analysis of metabolic flux among taxa present in input_1"
   ]
  },
  {
   "cell_type": "code",
   "execution_count": null,
   "metadata": {},
   "outputs": [],
   "source": [
    "def match_pathways_with_taxa(taxa, pathways):\n",
    "    \"\"\"\n",
    "    matches appropriate pathways to the inputted taxa.\n",
    "    \n",
    "    \n",
    "    \"\"\"\n",
    "    \n",
    "    # find out which pathways each bacteria in taxa have\n",
    "    \n",
    "    # match all the pathways for each bacteria\n",
    "    \n",
    "    return \"probably a dataframe with all appropriate pathways for each bacteria\"\n",
    "\n",
    "\n",
    "def network_analysis(df_from_matched_pathways):\n",
    "    \"\"\"\n",
    "    Runs the networkd analysis for the metabolic pathways of bacteria in group.\n",
    "    \"\"\"\n",
    "    \n",
    "    # networkx\n",
    "    \n",
    "    # network analysis no graphin\n",
    "    \n",
    "    return \"result of network analysis\"\n",
    "    "
   ]
  },
  {
   "cell_type": "markdown",
   "metadata": {},
   "source": [
    "## 4. plots/figures:\n",
    "- in: result of network analysis in 3\n",
    "- out: appropriate plots and figures to represent the analyzed network"
   ]
  },
  {
   "cell_type": "code",
   "execution_count": null,
   "metadata": {},
   "outputs": [],
   "source": [
    "def plot_network_analysis(network_analysis_result):\n",
    "    \"\"\"\n",
    "    Plots the result from network_analysis().\n",
    "    \n",
    "    \"\"\"\n",
    "    \n",
    "    # matplotlib\n",
    "    \n",
    "    # plot\n",
    "    \n",
    "    # just display no return "
   ]
  },
  {
   "cell_type": "markdown",
   "metadata": {},
   "source": [
    "## 5. (optional) fluctuation over time:"
   ]
  },
  {
   "cell_type": "code",
   "execution_count": null,
   "metadata": {},
   "outputs": [],
   "source": []
  }
 ],
 "metadata": {
  "kernelspec": {
   "display_name": "Python 3",
   "language": "python",
   "name": "python3"
  },
  "language_info": {
   "codemirror_mode": {
    "name": "ipython",
    "version": 3
   },
   "file_extension": ".py",
   "mimetype": "text/x-python",
   "name": "python",
   "nbconvert_exporter": "python",
   "pygments_lexer": "ipython3",
   "version": "3.7.4"
  }
 },
 "nbformat": 4,
 "nbformat_minor": 2
}
