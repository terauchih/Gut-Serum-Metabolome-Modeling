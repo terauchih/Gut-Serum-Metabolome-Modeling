{
 "cells": [
  {
   "cell_type": "code",
   "execution_count": 1,
   "metadata": {},
   "outputs": [],
   "source": [
    "import networkx as nx"
   ]
  },
  {
   "cell_type": "code",
   "execution_count": 2,
   "metadata": {},
   "outputs": [],
   "source": [
    "# make directed empty graph:\n",
    "G = nx.DiGraph()"
   ]
  },
  {
   "cell_type": "code",
   "execution_count": 4,
   "metadata": {},
   "outputs": [],
   "source": [
    "# add 1 node:\n",
    "G.add_node(1)\n",
    "\n",
    "G.node"
   ]
  },
  {
   "cell_type": "code",
   "execution_count": 12,
   "metadata": {},
   "outputs": [
    {
     "data": {
      "text/plain": [
       "NodeView((1, 2, 3, 100, 101, 102, 103, 104, 105, 106, 107, 108, 109, 0, 4, 5, 6, 7, 8, 9, <networkx.classes.graph.Graph object at 0x7fcec1830e90>))"
      ]
     },
     "execution_count": 12,
     "metadata": {},
     "output_type": "execute_result"
    }
   ],
   "source": [
    "# add nodes from containers:\n",
    "G.add_nodes_from([2,3])\n",
    "G.add_nodes_from(range(100,110))\n",
    "\n",
    "H = nx.path_graph(10)\n",
    "G.add_nodes_from(H)\n",
    "\n",
    "G.add_node(H)\n",
    "\n",
    "G.node"
   ]
  },
  {
   "cell_type": "code",
   "execution_count": 16,
   "metadata": {},
   "outputs": [
    {
     "data": {
      "text/plain": [
       "OutEdgeView([(1, 2), (1, 3), (2, 3), (3, 4), (0, 1), (4, 5), (5, 6), (6, 7), (7, 8), (8, 9)])"
      ]
     },
     "execution_count": 16,
     "metadata": {},
     "output_type": "execute_result"
    }
   ],
   "source": [
    "# adding edges:\n",
    "G.add_edge(1,2)\n",
    "G.add_edges_from([(1,2), (1,3)])\n",
    "G.add_edges_from(H.edges)\n",
    "\n",
    "G.edges"
   ]
  },
  {
   "cell_type": "code",
   "execution_count": 28,
   "metadata": {},
   "outputs": [
    {
     "data": {
      "text/plain": [
       "[(1, {'time': '5pm'}), (3, {'time': '2pm'})]"
      ]
     },
     "execution_count": 28,
     "metadata": {},
     "output_type": "execute_result"
    }
   ],
   "source": [
    "# adding node attributes:\n",
    "G = nx.DiGraph(day = \"Friday\")\n",
    "G.graph\n",
    "\n",
    "G.add_node(1, time=\"5pm\")\n",
    "G.add_nodes_from([3], time=\"2pm\")\n",
    "\n",
    "G.nodes[1][\"room\"] = 714\n",
    "del G.nodes[1][\"room\"]\n",
    "G.nodes[1]\n",
    "\n",
    "list(G.nodes(data=True))\n",
    "\n"
   ]
  },
  {
   "cell_type": "code",
   "execution_count": 65,
   "metadata": {},
   "outputs": [
    {
     "data": {
      "text/plain": [
       "'blue'"
      ]
     },
     "execution_count": 65,
     "metadata": {},
     "output_type": "execute_result"
    }
   ],
   "source": [
    "# adding edge attriibutes:\n",
    "G.add_edge(1,2, weight=4.7)\n",
    "G.add_edges_from([(3,4),(4,5)], color=\"red\")\n",
    "G.add_edges_from([(1,2,{\"color\":\"blue\"}), (2,3,{\"weight\":8})])\n",
    "\n",
    "G.edges\n",
    "G.edges[1,2][\"color\"]"
   ]
  },
  {
   "cell_type": "code",
   "execution_count": 45,
   "metadata": {},
   "outputs": [
    {
     "data": {
      "text/plain": [
       "5"
      ]
     },
     "execution_count": 45,
     "metadata": {},
     "output_type": "execute_result"
    }
   ],
   "source": [
    "# shortcuts to get graph info:\n",
    "1 in G # check for node 1\n",
    "\n",
    "[n for n in G if n<3] # iterate thru nodes\n",
    "\n",
    "len(G) # number of nodes in G"
   ]
  },
  {
   "cell_type": "code",
   "execution_count": 63,
   "metadata": {},
   "outputs": [
    {
     "name": "stdout",
     "output_type": "stream",
     "text": [
      "n: 1 \n",
      "nbrsdict: {2: {'weight': 4.7, 'color': 'blue'}} \n",
      "nbr: 2 \n",
      "eattr: {'weight': 4.7, 'color': 'blue'}\n",
      "n: 2 \n",
      "nbrsdict: {3: {'weight': 8}} \n",
      "nbr: 3 \n",
      "eattr: {'weight': 8}\n"
     ]
    }
   ],
   "source": [
    "# Getting neighbots(edges):\n",
    "\n",
    "# as adjacency dictionary:\n",
    "for n, nbrsdict in G.adjacency():\n",
    "    #print(n, nbrsdict)\n",
    "    for nbr, eattr in nbrsdict.items():\n",
    "        #print(nbr, eattr)\n",
    "        if \"weight\" in eattr:\n",
    "            print(\"n:\", n,\n",
    "                  \"\\nnbrsdict:\", nbrsdict,\n",
    "                  \"\\nnbr:\", nbr,\n",
    "                  \"\\neattr:\", eattr)"
   ]
  },
  {
   "cell_type": "code",
   "execution_count": 66,
   "metadata": {},
   "outputs": [
    {
     "name": "stdout",
     "output_type": "stream",
     "text": [
      "None\n",
      "None\n",
      "None\n",
      "None\n"
     ]
    }
   ],
   "source": [
    "# with edges reporting objects:\n",
    "for u, v, weight in G.edges(data=\"weigt\"):\n",
    "    print(weight)\n",
    "    if weight is not None:\n",
    "        print(\"u: \", u,\n",
    "             \"\\nv: \", v,\n",
    "             \"\\nweight: \", weight)"
   ]
  },
  {
   "cell_type": "code",
   "execution_count": null,
   "metadata": {},
   "outputs": [],
   "source": []
  },
  {
   "cell_type": "code",
   "execution_count": null,
   "metadata": {},
   "outputs": [],
   "source": []
  },
  {
   "cell_type": "code",
   "execution_count": null,
   "metadata": {},
   "outputs": [],
   "source": []
  },
  {
   "cell_type": "code",
   "execution_count": null,
   "metadata": {},
   "outputs": [],
   "source": []
  },
  {
   "cell_type": "code",
   "execution_count": null,
   "metadata": {},
   "outputs": [],
   "source": []
  }
 ],
 "metadata": {
  "kernelspec": {
   "display_name": "Python 3",
   "language": "python",
   "name": "python3"
  },
  "language_info": {
   "codemirror_mode": {
    "name": "ipython",
    "version": 3
   },
   "file_extension": ".py",
   "mimetype": "text/x-python",
   "name": "python",
   "nbconvert_exporter": "python",
   "pygments_lexer": "ipython3",
   "version": "3.7.4"
  }
 },
 "nbformat": 4,
 "nbformat_minor": 2
}
