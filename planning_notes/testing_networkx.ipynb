{
 "cells": [
  {
   "cell_type": "code",
   "execution_count": null,
   "metadata": {},
   "outputs": [],
   "source": [
    "import networkx as nx"
   ]
  },
  {
   "cell_type": "code",
   "execution_count": null,
   "metadata": {},
   "outputs": [],
   "source": [
    "# make directed empty graph:\n",
    "G = nx.DiGraph()"
   ]
  },
  {
   "cell_type": "code",
   "execution_count": null,
   "metadata": {},
   "outputs": [],
   "source": [
    "# add 1 node:\n",
    "G.add_node(1)\n",
    "\n",
    "G.node"
   ]
  },
  {
   "cell_type": "code",
   "execution_count": null,
   "metadata": {},
   "outputs": [],
   "source": [
    "# add nodes from containers:\n",
    "G.add_nodes_from([2,3])\n",
    "G.add_nodes_from(range(100,110))\n",
    "\n",
    "H = nx.path_graph(10)\n",
    "G.add_nodes_from(H)\n",
    "\n",
    "G.add_node(H)\n",
    "\n",
    "G.node"
   ]
  },
  {
   "cell_type": "code",
   "execution_count": null,
   "metadata": {},
   "outputs": [],
   "source": [
    "# adding edges:\n",
    "G.add_edge(1,2)\n",
    "G.add_edges_from([(1,2), (1,3)])\n",
    "G.add_edges_from(H.edges)\n",
    "\n",
    "G.edges"
   ]
  },
  {
   "cell_type": "code",
   "execution_count": null,
   "metadata": {},
   "outputs": [],
   "source": [
    "# adding node attributes:\n",
    "G = nx.DiGraph(day = \"Friday\")\n",
    "G.graph\n",
    "\n",
    "G.add_node(1, time=\"5pm\")\n",
    "G.add_nodes_from([3], time=\"2pm\")\n",
    "\n",
    "G.nodes[1][\"room\"] = 714\n",
    "del G.nodes[1][\"room\"]\n",
    "G.nodes[1]\n",
    "\n",
    "list(G.nodes(data=True))\n",
    "\n"
   ]
  },
  {
   "cell_type": "code",
   "execution_count": null,
   "metadata": {},
   "outputs": [],
   "source": [
    "# adding edge attriibutes:\n",
    "G.add_edge(1,2, weight=4.7)\n",
    "G.add_edges_from([(3,4),(4,5)], color=\"red\")\n",
    "G.add_edges_from([(1,2,{\"color\":\"blue\"}), (2,3,{\"weight\":8})])\n",
    "\n",
    "G.edges\n",
    "G.edges[1,2][\"color\"]"
   ]
  },
  {
   "cell_type": "code",
   "execution_count": null,
   "metadata": {},
   "outputs": [],
   "source": [
    "# shortcuts to get graph info:\n",
    "1 in G # check for node 1\n",
    "\n",
    "[n for n in G if n<3] # iterate thru nodes\n",
    "\n",
    "len(G) # number of nodes in G"
   ]
  },
  {
   "cell_type": "code",
   "execution_count": null,
   "metadata": {},
   "outputs": [],
   "source": [
    "# Getting neighbots(edges):\n",
    "\n",
    "# as adjacency dictionary:\n",
    "for n, nbrsdict in G.adjacency():\n",
    "    #print(n, nbrsdict)\n",
    "    for nbr, eattr in nbrsdict.items():\n",
    "        #print(nbr, eattr)\n",
    "        if \"weight\" in eattr:\n",
    "            print(\"n:\", n,\n",
    "                  \"\\nnbrsdict:\", nbrsdict,\n",
    "                  \"\\nnbr:\", nbr,\n",
    "                  \"\\neattr:\", eattr)"
   ]
  },
  {
   "cell_type": "code",
   "execution_count": null,
   "metadata": {},
   "outputs": [],
   "source": [
    "# with edges reporting objects:\n",
    "for u, v, weight in G.edges(data=\"weigt\"):\n",
    "    print(weight)\n",
    "    if weight is not None:\n",
    "        print(\"u: \", u,\n",
    "             \"\\nv: \", v,\n",
    "             \"\\nweight: \", weight)"
   ]
  },
  {
   "cell_type": "code",
   "execution_count": null,
   "metadata": {},
   "outputs": [],
   "source": []
  },
  {
   "cell_type": "code",
   "execution_count": null,
   "metadata": {},
   "outputs": [],
   "source": []
  },
  {
   "cell_type": "code",
   "execution_count": null,
   "metadata": {},
   "outputs": [],
   "source": []
  },
  {
   "cell_type": "code",
   "execution_count": null,
   "metadata": {},
   "outputs": [],
   "source": []
  },
  {
   "cell_type": "code",
   "execution_count": null,
   "metadata": {},
   "outputs": [],
   "source": []
  }
 ],
 "metadata": {
  "kernelspec": {
   "display_name": "Python 3",
   "language": "python",
   "name": "python3"
  },
  "language_info": {
   "codemirror_mode": {
    "name": "ipython",
    "version": 3
   },
   "file_extension": ".py",
   "mimetype": "text/x-python",
   "name": "python",
   "nbconvert_exporter": "python",
   "pygments_lexer": "ipython3",
   "version": "3.7.4"
  }
 },
 "nbformat": 4,
 "nbformat_minor": 2
}
