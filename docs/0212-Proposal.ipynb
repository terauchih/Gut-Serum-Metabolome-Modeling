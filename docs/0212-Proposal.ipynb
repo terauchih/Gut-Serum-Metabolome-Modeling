{
 "cells": [
  {
   "cell_type": "markdown",
   "metadata": {},
   "source": [
    "# <center>  Gut-Serum Metabolome Modeling </center>\n",
    "\n",
    "<center>By Hinako Terauchi</center>"
   ]
  },
  {
   "cell_type": "markdown",
   "metadata": {},
   "source": [
    "\n",
    "<img src=\"https://labblog.uofmhealth.org/sites/lab/files/2016-06/Microbiome%20FINAL-01_0.png\" width=\"80%\">\n",
    "\n",
    "Image from: *https://labblog.uofmhealth.org/lab-report/microbiome-mashup-scientists-align-to-understand-microbes-and-around-us* \n",
    "\n"
   ]
  },
  {
   "cell_type": "markdown",
   "metadata": {},
   "source": [
    "---\n",
    "# Overview\n",
    "\n",
    "Since the discovery of bacteria by Antoni van Leeuwenhoek in 1676, the field of microbiology has significantly expanded with the help of technological advancements. The invention of a microscope was the technological advanement that allowed Leeuwenhoek to see and describe the existence of bacteria that kickstarted the field of microbiology. Like other scientific diciplines, microbiology relies on available technologies and tools at the time to be able to ask and answer questions. \n",
    "\n",
    "Following the official discovery of DNA in 1950s, the invention of sequencing technology in 1970s propelled the field of genetics to the forfront of scientific interest. The sequencing technology then had very minimal capabilities due to the lack of computational technologies available today. It was not until the 2000s that mass sequencing became available with the invention of Next-Generation Sequencing which is now the staple in the microbiome resarech field. \n",
    "\n",
    "The definition of microbiome or microbiota is best described in the words of the two major pioneers of the field, Joshua Lederberg: *“ecological community of commensal, symbiotic and pathogenic organisms that share our body space.”$^{1}$* These microorganisms are a collection of bacteria, fungi, archea, and even virus particles that cannot be viewed with the naked eyes. Due to the complexity of microbiome compositions, reserchers typically focus on a single domain to study, in my case: bacteria. \n",
    "\n",
    "Bacterial mirobiome reserch grew exponetially with the introduction of Next-Gen sequencing technologies. Previouly, bacterial research solely depended on what is called \"wet lab\" tools; a term describing experimental procedures/tools used in a traditional lab space involving white lab coats, gloves, beakers, and anything else included in a typical imegery of reserch scientists. The large limitation the \"wet lab\" experiments faces when studying bacteria, is that not all bacteria can be studied under the lab conditions outside of their natural environment, whether it be the deep sea vents, agricultural soils, or in and on animals, including humans. Sequencing successfuly addressed the problem by eliminating the need for growth of bacteria under lab conditions, allowing researchers to identify and study numerous bacterial species never observed before.\n",
    "\n",
    "In 2007, Human Microbiome Project showed the sheer amount and diversity of bacterial microbiome contents across variety of human body sites, showing that an average adult human body contains at least ten times more bacterial cells than its own cells, leading to the conceptualization of microbiome as the \"forgotten organ\"$^{2}$. Since then, numerous studies have come out associating human microbiome, typically that of the gut, to a plethora of clinical pathologies and diseases including but not limited to: diabetes, inflammatory bowel disease, obesity, and allergies$^{3}$. The exact mechanisms of how a microbiome could affect the host is currenty uknown, and thus a major topic being currently explored by various study groups across the globe. \n",
    "\n",
    "One of the potential ways microbiome could affect the host physology is through the production and utilization of various metabolites by the bacterial members of the microbiome, also known as a metabolome. Many of the produced metabolites are common between the host and bacteria, just as many are unique to the host, the microbiome, or a specific type of bacteria. One aspect of metabolome of interest is the metabolic flux. Bacteria producescertain metabolites based on the nutrients provided by the host, which then could be used up by neighboring bacteria for their energy or metabolic needs. In order to assess how much of which bacterial metabolites are present in enough abundance to affect the host health, metabolic flux must be considered. \n",
    "\n",
    "There is a mathematica approach to assess and study the metabolic networks called flux balance analysis(FBA)$^{4}$. The flux balance model will be based on the real data generated from my own thesis research experiments.  "
   ]
  },
  {
   "cell_type": "markdown",
   "metadata": {},
   "source": [
    "---\n",
    "# Program Description\n",
    "\n",
    "The program will aim to model metabolic flux network in a given set of bacteria in a microbiome. Several microbiome samples are already sequenced and processed using the 16SV4 rRNA gene and an pen-source QIIME2${^5}$ pipeline. These sequences have been processed through quality control and assigned appropriate bacterial taxonomy(identities). These sequence reads have been turned into reatiev abundance values for each taxa present in each sample. In addition, their metabolic potential has been predicted using an open-source paprica pipeline$^{6}$. \n",
    "\n",
    "This program will take inputs of taxonomic assignments with relative abundance values and predicted metabolic potental to run a network analysis to model the metabolic flux and the potential relationships among the members of the microbiota. "
   ]
  },
  {
   "cell_type": "markdown",
   "metadata": {},
   "source": [
    "---\n",
    "# Project Goals and Timeline\n",
    "\n",
    "Explain in more detail the parts of the code you are going to get working for your research.  Lay out some short term, mid-term and long term goals. As best you can, try to scope the project such that you can complete the short term and mid-term goals and if time/luck permits maybe a few of the long term goals.\n",
    "\n",
    "Note: it is expected that these goals will adjust change as things move forward.\n",
    "\n",
    "As a reminder, here are a set of dates (Approx. every other Friday) that include deliverables related to your projects. These sub-projects are designed to introduce you to useful software development tools\n",
    "\n",
    "\n",
    "\n",
    "- 1/29/2021 - *Create git repository (completed)* \n",
    "    * Available on GitHub under the name: \"Gut-Serum-Metabolite-Modeling\"  \n",
    "    \n",
    "- 2/12/2021 - *Proposal Due (will be completed once this document is subitted)*\n",
    "\n",
    "- 2/26/2021 - Stub functions and Example code integration (With documentation)\n",
    "    * Short term goals:\n",
    "        * Make an overall outline of funcions I would like to include\n",
    "        * Shave down the above outline to focus on the bare minimum functions \n",
    "    * Mid term goals:\n",
    "        * Create stub functions for the bare minimum outline like data import/wrangling\n",
    "        * Create stub functions for the basic modeling functions\n",
    "    * If time permits: \n",
    "        * Create stub functions for image/animation productions\n",
    "        * Incoorporate any existing model/pipelines from published papers\n",
    "      \n",
    "- 3/12/2021 - Unit Test Integration\n",
    "    * Short term:\n",
    "        * Write and run tests for the bare minimum functions using simple inputs\n",
    "    * Mid term: \n",
    "        * Write and run tests for the extra functions using simple inputs\n",
    "    * If time permits: \n",
    "        * Write and run tests for the functions using bigger/real data\n",
    "\n",
    "- 3/25/2021 - Coding Standards and Linting\n",
    "    * Short term:\n",
    "        * Check for understandable comments and ease of replication\n",
    "    * Mid term: \n",
    "        * Make it look pretty and organized\n",
    "    * If time permits: \n",
    "        * Add more functions or keep working on the advanced functions\n",
    "\n",
    "- 4/9/2021 - Code Review \n",
    "    * Short term:\n",
    "        * Review the bare minimum codes to make sure they can run \n",
    "        * Determine the level of data complexity it can handle\n",
    "    * Mid term: \n",
    "        * Keep working on/review the slightly fancier functions as seem fit\n",
    "    * If time permits: \n",
    "        * Add more functions or keep working on the advanced functions\n",
    "\n",
    "- 4/16/2021 - Presentation Video Due\n",
    "    * Short term:\n",
    "        * Figure out the outline of my presentation\n",
    "        * Make sure the program does the minimum\n",
    "    * Mid term: \n",
    "        * Practice and record the video\n",
    "        * Upload the video\n",
    "    * If time permits: \n",
    "        * Add more functions or keep working on the advanced functions\n",
    "\n",
    "- 4/23/2021 - Final Report and Code due.\n",
    "    * Short term:\n",
    "        * Last minute trouble shooting for the minimal functions\n",
    "        * Check for readability and comments of the scripts\n",
    "        * Make sure GitHub repo is up to date\n",
    "    * Mid term: \n",
    "        * Organize the repo ad scripts\n",
    "    * If time permits: \n",
    "        * Add more functions or keep working on the advanced functions\n",
    "\n",
    "\n"
   ]
  },
  {
   "cell_type": "markdown",
   "metadata": {},
   "source": [
    "---\n",
    "# Anticipating Challenges  \n",
    "\n",
    "\n",
    "### To learn:\n",
    "* network analysis\n",
    "* mathematics of flux balance analysis\n",
    "* Working with my own Git repo\n",
    "* Optimizing codes\n",
    "\n",
    "### Potential challenges:\n",
    "* The goal is too broad/complex: \n",
    "    - start with select few metabolites rather than all from the dataset\n",
    "    - start with only 1 group/sample/bcteria \n",
    "    - talk to Liz\n",
    "    \n",
    "* There already is an existing identical program:\n",
    "    - assess the differences/similarities\n",
    "    - change the program to be an extension/addition to that already existing program\n",
    "    - contact the author(s)\n",
    "    - talk to Liz\n",
    "    \n",
    "* Too many bugs/trouble shooting beyond my capabilities:\n",
    "    - take a break and come back in 2 days\n",
    "    - assess the necessity of where these are occuring\n",
    "    - explore alternative ways to implement\n",
    "    - talk to classmates\n",
    "    - talk to Liz\n",
    "    \n",
    "### Potential deviations:\n",
    "* I plan to write all scripts in Python, but as I work a lot with R for my research, I may try to make whatever output to be R-friendly, or foratted so it can be easily incoorporated into R. "
   ]
  },
  {
   "cell_type": "markdown",
   "metadata": {},
   "source": [
    "---\n",
    "# References\n",
    "\n",
    "1. Lederberg J, McCray AT, Ome sweet ‘omics – A genealogical treasury of words. Scientist. 15:8-8 (2001)\n",
    "2. Turnbaugh, P., Ley, R., Hamady, M. et al. The Human Microbiome Project. Nature 449, 804–810 (2007). \n",
    "3. Clemente JC, Ursell LK, Parfrey LW, Knight R, The Impact of the Gut Microbiota on Human Health: An Integrative View. Cell. 148(6): 1258-1270 (2012).\n",
    "4. Orth JD, Thiele I, Palsson BØ. What is flux balance analysis?. Nat Biotechnol. 2010;28(3):245-248. doi:10.1038/nbt.1614\n",
    "5. Bolyen E, Rideout JR, Dillon MR, Bokulich NA, Abnet CC, Al-Ghalith GA, Alexander H, Alm EJ, Arumugam M, Asnicar F, Bai Y, Bisanz JE, Bittinger K, Brejnrod A, Brislawn CJ, Brown CT, Callahan BJ, Caraballo-Rodríguez AM, Chase J, Cope EK, Da Silva R, Diener C, Dorrestein PC, Douglas GM, Durall DM, Duvallet C, Edwardson CF, Ernst M, Estaki M, Fouquier J, Gauglitz JM, Gibbons SM, Gibson DL, Gonzalez A, Gorlick K, Guo J, Hillmann B, Holmes S, Holste H, Huttenhower C, Huttley GA, Janssen S, Jarmusch AK, Jiang L, Kaehler BD, Kang KB, Keefe CR, Keim P, Kelley ST, Knights D, Koester I, Kosciolek T, Kreps J, Langille MGI, Lee J, Ley R, Liu YX, Loftfield E, Lozupone C, Maher M, Marotz C, Martin BD, McDonald D, McIver LJ, Melnik AV, Metcalf JL, Morgan SC, Morton JT, Naimey AT, Navas-Molina JA, Nothias LF, Orchanian SB, Pearson T, Peoples SL, Petras D, Preuss ML, Pruesse E, Rasmussen LB, Rivers A, Robeson MS, Rosenthal P, Segata N, Shaffer M, Shiffer A, Sinha R, Song SJ, Spear JR, Swafford AD, Thompson LR, Torres PJ, Trinh P, Tripathi A, Turnbaugh PJ, Ul-Hasan S, van der Hooft JJJ, Vargas F, Vázquez-Baeza Y, Vogtmann E, von Hippel M, Walters W, Wan Y, Wang M, Warren J, Weber KC, Williamson CHD, Willis AD, Xu ZZ, Zaneveld JR, Zhang Y, Zhu Q, Knight R, and Caporaso JG. 2019. Reproducible, interactive, scalable and extensible microbiome data science using QIIME 2. Nature Biotechnology 37: 852–857. https://doi.org/10.1038/s41587-019-0209-9\n",
    "6. Bowman, J. S., & Ducklow, H. W. (2015). Microbial Communities Can Be Described by Metabolic Structure: A General Framework and Application to a Seasonally Variable, Depth-Stratified Microbial Community from the Coastal West Antarctic Peninsula. PloS one, 10(8), e0135868.\n"
   ]
  },
  {
   "cell_type": "code",
   "execution_count": null,
   "metadata": {},
   "outputs": [],
   "source": []
  }
 ],
 "metadata": {
  "anaconda-cloud": {},
  "kernelspec": {
   "display_name": "Python 3",
   "language": "python",
   "name": "python3"
  },
  "language_info": {
   "codemirror_mode": {
    "name": "ipython",
    "version": 3
   },
   "file_extension": ".py",
   "mimetype": "text/x-python",
   "name": "python",
   "nbconvert_exporter": "python",
   "pygments_lexer": "ipython3",
   "version": "3.7.4"
  }
 },
 "nbformat": 4,
 "nbformat_minor": 1
}
