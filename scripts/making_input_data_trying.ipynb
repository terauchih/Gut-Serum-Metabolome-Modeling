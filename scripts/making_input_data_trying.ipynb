{
 "cells": [
  {
   "cell_type": "code",
   "execution_count": 1,
   "metadata": {},
   "outputs": [],
   "source": [
    "import pandas as pd"
   ]
  },
  {
   "cell_type": "code",
   "execution_count": 2,
   "metadata": {},
   "outputs": [
    {
     "data": {
      "text/html": [
       "<div>\n",
       "<style scoped>\n",
       "    .dataframe tbody tr th:only-of-type {\n",
       "        vertical-align: middle;\n",
       "    }\n",
       "\n",
       "    .dataframe tbody tr th {\n",
       "        vertical-align: top;\n",
       "    }\n",
       "\n",
       "    .dataframe thead th {\n",
       "        text-align: right;\n",
       "    }\n",
       "</style>\n",
       "<table border=\"1\" class=\"dataframe\">\n",
       "  <thead>\n",
       "    <tr style=\"text-align: right;\">\n",
       "      <th></th>\n",
       "      <th>L.lysine.fermentation.to.acetate.and.butanoate</th>\n",
       "      <th>pyruvate.fermentation.to.acetate.II</th>\n",
       "      <th>acetate.conversion.to.acetyl.CoA</th>\n",
       "      <th>L.lysine.biosynthesis.I</th>\n",
       "      <th>L.lysine.biosynthesis.III</th>\n",
       "      <th>L.lysine.biosynthesis.VI</th>\n",
       "      <th>acetate.formation.from.acetyl.CoA.I</th>\n",
       "      <th>acetoacetate.degradation..to.acetyl.CoA.</th>\n",
       "      <th>pyruvate.decarboxylation.to.acetyl.CoA</th>\n",
       "    </tr>\n",
       "  </thead>\n",
       "  <tbody>\n",
       "    <tr>\n",
       "      <td>0</td>\n",
       "      <td>24.129287</td>\n",
       "      <td>2.13025</td>\n",
       "      <td>34.141528</td>\n",
       "      <td>26.134562</td>\n",
       "      <td>53.470057</td>\n",
       "      <td>68.188032</td>\n",
       "      <td>94.161874</td>\n",
       "      <td>9.463964</td>\n",
       "      <td>21.280398</td>\n",
       "    </tr>\n",
       "  </tbody>\n",
       "</table>\n",
       "</div>"
      ],
      "text/plain": [
       "   L.lysine.fermentation.to.acetate.and.butanoate  \\\n",
       "0                                       24.129287   \n",
       "\n",
       "   pyruvate.fermentation.to.acetate.II  acetate.conversion.to.acetyl.CoA  \\\n",
       "0                              2.13025                         34.141528   \n",
       "\n",
       "   L.lysine.biosynthesis.I  L.lysine.biosynthesis.III  \\\n",
       "0                26.134562                  53.470057   \n",
       "\n",
       "   L.lysine.biosynthesis.VI  acetate.formation.from.acetyl.CoA.I  \\\n",
       "0                 68.188032                            94.161874   \n",
       "\n",
       "   acetoacetate.degradation..to.acetyl.CoA.  \\\n",
       "0                                  9.463964   \n",
       "\n",
       "   pyruvate.decarboxylation.to.acetyl.CoA  \n",
       "0                               21.280398  "
      ]
     },
     "execution_count": 2,
     "metadata": {},
     "output_type": "execute_result"
    }
   ],
   "source": [
    "# getting the raw data:\n",
    "raw_data = pd.read_csv(\"./sample_raw_input.csv\",\n",
    "                      nrows=1)\n",
    "## all rows below got NaN and weird values\n",
    "\n",
    "raw_data.head()"
   ]
  },
  {
   "cell_type": "code",
   "execution_count": 3,
   "metadata": {},
   "outputs": [],
   "source": [
    "# make it long format:\n",
    "long_data = pd.melt(raw_data, var_name=\"pathways\",value_name=\"amount\")"
   ]
  },
  {
   "cell_type": "code",
   "execution_count": 4,
   "metadata": {},
   "outputs": [
    {
     "data": {
      "text/html": [
       "<div>\n",
       "<style scoped>\n",
       "    .dataframe tbody tr th:only-of-type {\n",
       "        vertical-align: middle;\n",
       "    }\n",
       "\n",
       "    .dataframe tbody tr th {\n",
       "        vertical-align: top;\n",
       "    }\n",
       "\n",
       "    .dataframe thead th {\n",
       "        text-align: right;\n",
       "    }\n",
       "</style>\n",
       "<table border=\"1\" class=\"dataframe\">\n",
       "  <thead>\n",
       "    <tr style=\"text-align: right;\">\n",
       "      <th></th>\n",
       "      <th>pathways</th>\n",
       "      <th>amount</th>\n",
       "    </tr>\n",
       "  </thead>\n",
       "  <tbody>\n",
       "    <tr>\n",
       "      <td>0</td>\n",
       "      <td>L.lysine.fermentation.to.acetate.and.butanoate</td>\n",
       "      <td>24.129287</td>\n",
       "    </tr>\n",
       "    <tr>\n",
       "      <td>1</td>\n",
       "      <td>pyruvate.fermentation.to.acetate.II</td>\n",
       "      <td>2.130250</td>\n",
       "    </tr>\n",
       "    <tr>\n",
       "      <td>2</td>\n",
       "      <td>acetate.conversion.to.acetyl.CoA</td>\n",
       "      <td>34.141528</td>\n",
       "    </tr>\n",
       "    <tr>\n",
       "      <td>3</td>\n",
       "      <td>L.lysine.biosynthesis.I</td>\n",
       "      <td>26.134562</td>\n",
       "    </tr>\n",
       "    <tr>\n",
       "      <td>4</td>\n",
       "      <td>L.lysine.biosynthesis.III</td>\n",
       "      <td>53.470057</td>\n",
       "    </tr>\n",
       "    <tr>\n",
       "      <td>5</td>\n",
       "      <td>L.lysine.biosynthesis.VI</td>\n",
       "      <td>68.188032</td>\n",
       "    </tr>\n",
       "    <tr>\n",
       "      <td>6</td>\n",
       "      <td>acetate.formation.from.acetyl.CoA.I</td>\n",
       "      <td>94.161874</td>\n",
       "    </tr>\n",
       "    <tr>\n",
       "      <td>7</td>\n",
       "      <td>acetoacetate.degradation..to.acetyl.CoA.</td>\n",
       "      <td>9.463964</td>\n",
       "    </tr>\n",
       "    <tr>\n",
       "      <td>8</td>\n",
       "      <td>pyruvate.decarboxylation.to.acetyl.CoA</td>\n",
       "      <td>21.280398</td>\n",
       "    </tr>\n",
       "  </tbody>\n",
       "</table>\n",
       "</div>"
      ],
      "text/plain": [
       "                                         pathways     amount\n",
       "0  L.lysine.fermentation.to.acetate.and.butanoate  24.129287\n",
       "1             pyruvate.fermentation.to.acetate.II   2.130250\n",
       "2                acetate.conversion.to.acetyl.CoA  34.141528\n",
       "3                         L.lysine.biosynthesis.I  26.134562\n",
       "4                       L.lysine.biosynthesis.III  53.470057\n",
       "5                        L.lysine.biosynthesis.VI  68.188032\n",
       "6             acetate.formation.from.acetyl.CoA.I  94.161874\n",
       "7        acetoacetate.degradation..to.acetyl.CoA.   9.463964\n",
       "8          pyruvate.decarboxylation.to.acetyl.CoA  21.280398"
      ]
     },
     "execution_count": 4,
     "metadata": {},
     "output_type": "execute_result"
    }
   ],
   "source": [
    "long_data"
   ]
  },
  {
   "cell_type": "code",
   "execution_count": 5,
   "metadata": {},
   "outputs": [],
   "source": [
    "# now do some RegEx to format for networkx graph:\n",
    "\n",
    "# format for: nx.from_pandas_edgelist(df,source,target,attr)\n",
    "\n",
    "# 1. make basic DF with specified col name:\n",
    "dfInput4nx = pd.DataFrame(columns=[\"source\",\"target\",\"weight\"])\n"
   ]
  },
  {
   "cell_type": "code",
   "execution_count": 6,
   "metadata": {},
   "outputs": [
    {
     "data": {
      "text/plain": [
       "0    L.lysine.fermentation.to.acetate.and.butanoate\n",
       "1               pyruvate.fermentation.to.acetate.II\n",
       "2                  acetate.conversion.to.acetyl.CoA\n",
       "3                           L.lysine.biosynthesis.I\n",
       "4                         L.lysine.biosynthesis.III\n",
       "5                          L.lysine.biosynthesis.VI\n",
       "6               acetate.formation.from.acetyl.CoA.I\n",
       "7          acetoacetate.degradation..to.acetyl.CoA.\n",
       "8            pyruvate.decarboxylation.to.acetyl.CoA\n",
       "Name: pathways, dtype: object"
      ]
     },
     "execution_count": 6,
     "metadata": {},
     "output_type": "execute_result"
    }
   ],
   "source": [
    "long_data[\"pathways\"]"
   ]
  },
  {
   "cell_type": "code",
   "execution_count": 7,
   "metadata": {},
   "outputs": [
    {
     "data": {
      "text/plain": [
       "'L'"
      ]
     },
     "execution_count": 7,
     "metadata": {},
     "output_type": "execute_result"
    }
   ],
   "source": [
    "import re\n",
    "\n",
    "m = re.search(\"[^(and)]\", \"L.lysine.fermentation.to.acetate.and.butanoate\")\n",
    "\n",
    "m.group()\n"
   ]
  },
  {
   "cell_type": "code",
   "execution_count": 8,
   "metadata": {},
   "outputs": [],
   "source": [
    "# compiling regex:\n",
    "\n",
    "# in case of 'to':\n",
    "p_to_source = re.compile(\"\\S+?(?=\\.+to)\")\n",
    "p_to_target = re.compile(\"(?<=\\.to.)\\S+\")\n",
    "\n",
    "# target has 'and':\n",
    "p_and_firstT = re.compile(\"\\S+(?=\\.and\\.)\")\n",
    "p_and_secondT = re.compile(\"(?<=\\.and\\.)\\S+\")\n",
    "\n",
    "# sourse: just get the metabolite:\n",
    "s_no_ion = re.compile(\"\\S+(?=\\.\\w+ion)\")\n",
    "\n",
    "# replacing biosynthesis only's:\n",
    "t_no_synth4sub = re.compile(\"\\.\\w+synthesis\\S*\")\n",
    "\n",
    "# getting rid of roman numerals:\n",
    "p_no_IV = re.compile(\"\\.[IV]*$\")\n",
    "\n",
    "# getting before & after 'from':\n",
    "t_from = re.compile(\"\\S+(?=\\.\\S*from\\.\\S*)\")\n",
    "s_from = re.compile(\"(?<=from\\.)\\S+\")"
   ]
  },
  {
   "cell_type": "code",
   "execution_count": 9,
   "metadata": {},
   "outputs": [
    {
     "data": {
      "text/plain": [
       "<re.Match object; span=(0, 17), match='acetate.formation'>"
      ]
     },
     "execution_count": 9,
     "metadata": {},
     "output_type": "execute_result"
    }
   ],
   "source": [
    "## testing \n",
    "wordT = \"acetate.and.butanoate\"\n",
    "re.search(p_and_firstT,wordT)\n",
    "\n",
    "wordS = \"L.lysine.fermentation.to\"\n",
    "re.search(s_no_ion,wordS)\n",
    "\n",
    "synth = \"L.lysine.biosynthesis.III\"\n",
    "re.search(t_no_synth4sub,synth)\n",
    "\n",
    "re.search(s_no_ion,\"acetate.formation\")\n",
    "\n",
    "re.search(t_from,\"acetate.formation.from.acetyl.CoA\")"
   ]
  },
  {
   "cell_type": "code",
   "execution_count": 10,
   "metadata": {
    "scrolled": true
   },
   "outputs": [
    {
     "name": "stdout",
     "output_type": "stream",
     "text": [
      "0 L.lysine.fermentation.to.acetate.and.butanoate\n",
      "1 pyruvate.fermentation.to.acetate.II\n",
      "2 acetate.conversion.to.acetyl.CoA\n",
      "3 L.lysine.biosynthesis.I\n",
      "4 L.lysine.biosynthesis.III\n",
      "5 L.lysine.biosynthesis.VI\n",
      "6 acetate.formation.from.acetyl.CoA.I\n",
      "acetate.formation.from.acetyl.CoA acetyl.CoA acetate 94.1618744\n",
      "7 acetoacetate.degradation..to.acetyl.CoA.\n",
      "8 pyruvate.decarboxylation.to.acetyl.CoA\n"
     ]
    },
    {
     "data": {
      "text/html": [
       "<div>\n",
       "<style scoped>\n",
       "    .dataframe tbody tr th:only-of-type {\n",
       "        vertical-align: middle;\n",
       "    }\n",
       "\n",
       "    .dataframe tbody tr th {\n",
       "        vertical-align: top;\n",
       "    }\n",
       "\n",
       "    .dataframe thead th {\n",
       "        text-align: right;\n",
       "    }\n",
       "</style>\n",
       "<table border=\"1\" class=\"dataframe\">\n",
       "  <thead>\n",
       "    <tr style=\"text-align: right;\">\n",
       "      <th></th>\n",
       "      <th>source</th>\n",
       "      <th>target</th>\n",
       "      <th>weight</th>\n",
       "    </tr>\n",
       "  </thead>\n",
       "  <tbody>\n",
       "    <tr>\n",
       "      <td>0</td>\n",
       "      <td>L.lysine</td>\n",
       "      <td>acetate</td>\n",
       "      <td>24.129287</td>\n",
       "    </tr>\n",
       "    <tr>\n",
       "      <td>1</td>\n",
       "      <td>L.lysine</td>\n",
       "      <td>butanoate</td>\n",
       "      <td>24.129287</td>\n",
       "    </tr>\n",
       "    <tr>\n",
       "      <td>2</td>\n",
       "      <td>pyruvate</td>\n",
       "      <td>acetate</td>\n",
       "      <td>2.130250</td>\n",
       "    </tr>\n",
       "    <tr>\n",
       "      <td>3</td>\n",
       "      <td>acetate</td>\n",
       "      <td>acetyl.CoA</td>\n",
       "      <td>34.141528</td>\n",
       "    </tr>\n",
       "    <tr>\n",
       "      <td>4</td>\n",
       "      <td>unknown3</td>\n",
       "      <td>L.lysine</td>\n",
       "      <td>26.134562</td>\n",
       "    </tr>\n",
       "    <tr>\n",
       "      <td>5</td>\n",
       "      <td>unknown4</td>\n",
       "      <td>L.lysine</td>\n",
       "      <td>53.470057</td>\n",
       "    </tr>\n",
       "    <tr>\n",
       "      <td>6</td>\n",
       "      <td>unknown5</td>\n",
       "      <td>L.lysine</td>\n",
       "      <td>68.188032</td>\n",
       "    </tr>\n",
       "    <tr>\n",
       "      <td>7</td>\n",
       "      <td>acetyl.CoA</td>\n",
       "      <td>acetate</td>\n",
       "      <td>94.161874</td>\n",
       "    </tr>\n",
       "    <tr>\n",
       "      <td>8</td>\n",
       "      <td>acetoacetate</td>\n",
       "      <td>acetyl.CoA</td>\n",
       "      <td>9.463964</td>\n",
       "    </tr>\n",
       "    <tr>\n",
       "      <td>9</td>\n",
       "      <td>pyruvate</td>\n",
       "      <td>acetyl.CoA</td>\n",
       "      <td>21.280398</td>\n",
       "    </tr>\n",
       "  </tbody>\n",
       "</table>\n",
       "</div>"
      ],
      "text/plain": [
       "         source      target     weight\n",
       "0      L.lysine     acetate  24.129287\n",
       "1      L.lysine   butanoate  24.129287\n",
       "2      pyruvate     acetate   2.130250\n",
       "3       acetate  acetyl.CoA  34.141528\n",
       "4      unknown3    L.lysine  26.134562\n",
       "5      unknown4    L.lysine  53.470057\n",
       "6      unknown5    L.lysine  68.188032\n",
       "7    acetyl.CoA     acetate  94.161874\n",
       "8  acetoacetate  acetyl.CoA   9.463964\n",
       "9      pyruvate  acetyl.CoA  21.280398"
      ]
     },
     "execution_count": 10,
     "metadata": {},
     "output_type": "execute_result"
    }
   ],
   "source": [
    "# 1. make basic DF with specified col name:\n",
    "dfInput4nx = pd.DataFrame(columns=[\"source\",\"target\",\"weight\"])\n",
    "\n",
    "# 2. RegEx the pathway names to get source and target and fill in weight accordingly\n",
    "\n",
    "## brute forcing lol:\n",
    "for rowNum in range(len(long_data)):\n",
    "    path=long_data[\"pathways\"][rowNum]\n",
    "    print(rowNum,path)\n",
    "    weight = long_data[\"amount\"][rowNum]\n",
    "    \n",
    "    # if path has roman numerals or period attached:\n",
    "    if re.search(p_no_IV,path):\n",
    "        path=re.sub(p_no_IV,\"\",path)\n",
    "    \n",
    "    # if 'to' format:\n",
    "    if re.search(\"\\.to\\.\", path):\n",
    "        source = re.search(p_to_source,path).group()\n",
    "        # if source has -ion attached:\n",
    "        if re.search(s_no_ion,source):\n",
    "            source = re.search(s_no_ion,source).group()\n",
    "            \n",
    "        target = re.search(p_to_target,path).group()\n",
    "        \n",
    "        # if resulting target more than 1:\n",
    "        if re.search(\"and\",target):\n",
    "            #print(target)\n",
    "            #print(re.search(p_and_firstT,target))\n",
    "            target1=re.search(p_and_firstT,target).group()\n",
    "            target2=re.search(p_and_secondT,target).group()\n",
    "            \n",
    "            dfInput4nx= dfInput4nx.append({\"source\":source, \"target\":target1, \"weight\":weight},ignore_index=True)\n",
    "            dfInput4nx= dfInput4nx.append({\"source\":source, \"target\":target2, \"weight\":weight},ignore_index=True)\n",
    "            \n",
    "        # if target is just 1:\n",
    "        else:\n",
    "            # adding all the info to the df:\n",
    "            dfInput4nx= dfInput4nx.append({\"source\":source, \"target\":target, \"weight\":weight},ignore_index=True)\n",
    "            \n",
    "    # if it has 'synthesis' but no 'to':\n",
    "    if re.search(t_no_synth4sub,path):\n",
    "        source = \"unknown\"+str(rowNum)\n",
    "        target = re.sub(t_no_synth4sub,\"\",path)\n",
    "        dfInput4nx=dfInput4nx.append({\"source\":source, \"target\":target, \"weight\":weight},ignore_index=True)\n",
    "        \n",
    "    # if it's 'from' format:\n",
    "    if re.search(\"from\",path):\n",
    "        source = re.search(s_from,path).group()\n",
    "        \n",
    "        target = re.search(t_from,path).group()\n",
    "        # if target has -ion attached:\n",
    "        if re.search(s_no_ion,target):\n",
    "            target = re.search(s_no_ion,target).group()\n",
    "            \n",
    "        dfInput4nx =dfInput4nx.append({\"source\":source, \"target\":target, \"weight\":weight}, ignore_index=True)\n",
    "        \n",
    "        print(path,source,target,weight)\n",
    "\n",
    "    \n",
    "dfInput4nx    "
   ]
  },
  {
   "cell_type": "code",
   "execution_count": 11,
   "metadata": {},
   "outputs": [],
   "source": [
    "import network_analysis as nt"
   ]
  },
  {
   "cell_type": "code",
   "execution_count": 12,
   "metadata": {},
   "outputs": [
    {
     "data": {
      "text/plain": [
       "<module 'network_analysis' from '/Users/hinakoterauchi/Google_Drive/CMSE802/Gut-Serum-Metabolome-Modeling/scripts/network_analysis.py'>"
      ]
     },
     "execution_count": 12,
     "metadata": {},
     "output_type": "execute_result"
    }
   ],
   "source": [
    "from imp import reload\n",
    "reload(nt)"
   ]
  },
  {
   "cell_type": "code",
   "execution_count": 13,
   "metadata": {},
   "outputs": [],
   "source": [
    "graph = nt.initialize_graph(dfInput4nx)"
   ]
  },
  {
   "cell_type": "code",
   "execution_count": 14,
   "metadata": {},
   "outputs": [
    {
     "name": "stderr",
     "output_type": "stream",
     "text": [
      "/Users/hinakoterauchi/opt/anaconda3/lib/python3.7/site-packages/networkx/drawing/nx_pylab.py:579: MatplotlibDeprecationWarning: \n",
      "The iterable function was deprecated in Matplotlib 3.1 and will be removed in 3.3. Use np.iterable instead.\n",
      "  if not cb.iterable(width):\n",
      "/Users/hinakoterauchi/opt/anaconda3/lib/python3.7/site-packages/networkx/drawing/nx_pylab.py:585: MatplotlibDeprecationWarning: \n",
      "The iterable function was deprecated in Matplotlib 3.1 and will be removed in 3.3. Use np.iterable instead.\n",
      "  and cb.iterable(edge_color) \\\n",
      "/Users/hinakoterauchi/opt/anaconda3/lib/python3.7/site-packages/networkx/drawing/nx_pylab.py:595: MatplotlibDeprecationWarning: \n",
      "The iterable function was deprecated in Matplotlib 3.1 and will be removed in 3.3. Use np.iterable instead.\n",
      "  for c in edge_color]):\n",
      "/Users/hinakoterauchi/opt/anaconda3/lib/python3.7/site-packages/networkx/drawing/nx_pylab.py:676: MatplotlibDeprecationWarning: \n",
      "The iterable function was deprecated in Matplotlib 3.1 and will be removed in 3.3. Use np.iterable instead.\n",
      "  if cb.iterable(node_size):  # many node sizes\n"
     ]
    },
    {
     "data": {
      "text/plain": [
       "<Figure size 640x480 with 1 Axes>"
      ]
     },
     "metadata": {},
     "output_type": "display_data"
    }
   ],
   "source": [
    "nt.draw_network_graph(graph)"
   ]
  },
  {
   "cell_type": "code",
   "execution_count": 15,
   "metadata": {},
   "outputs": [
    {
     "data": {
      "text/plain": [
       "<Figure size 432x288 with 0 Axes>"
      ]
     },
     "metadata": {},
     "output_type": "display_data"
    }
   ],
   "source": [
    "import matplotlib.pyplot as plt\n",
    "plt.savefig('blue_MultiDiSpring_sample1.png')"
   ]
  },
  {
   "cell_type": "code",
   "execution_count": 16,
   "metadata": {},
   "outputs": [],
   "source": [
    "def draw_network_graph(graph):\n",
    "    \"\"\"\n",
    "    Plots the network graph taken from the input\n",
    "    \"\"\"\n",
    "    import networkx as nx\n",
    "    import matplotlib.pyplot as plt\n",
    "    import random\n",
    "    \n",
    "    for u,v,d in graph.edges(data=True):\n",
    "        d['weight'] = random.random()\n",
    "\n",
    "    edges,weights = zip(*nx.get_edge_attributes(graph,'weight').items())\n",
    "\n",
    "    \n",
    "    nx.draw_networkx(graph, \n",
    "                     with_labels=True,\n",
    "                     arrows=True, \n",
    "                     arrowsize=20,\n",
    "                     node_size=900,\n",
    "                     node_color='skyblue',\n",
    "                     width=6,\n",
    "                    pos=nx.spring_layout(graph,k=4),\n",
    "                    edge_cmap=plt.cm.GnBu,\n",
    "                    edge_color=weights,\n",
    "                    edgelist=edges,\n",
    "                    font_size=14)\n",
    "    \n",
    "    #plt.figure(figsize=(60,40))\n",
    "    ax = plt.gca()\n",
    "    plt.axis(\"off\")\n",
    "    ax.margins(0.08)\n",
    "    \n",
    "    plt.tight_layout()\n",
    "    plt.show()\n"
   ]
  },
  {
   "cell_type": "code",
   "execution_count": 17,
   "metadata": {},
   "outputs": [
    {
     "data": {
      "image/png": "[encoded data removed]",
      "text/plain": [
       "<Figure size 432x288 with 1 Axes>"
      ]
     },
     "metadata": {},
     "output_type": "display_data"
    },
    {
     "data": {
      "text/plain": [
       "<Figure size 432x288 with 0 Axes>"
      ]
     },
     "metadata": {},
     "output_type": "display_data"
    }
   ],
   "source": [
    "draw_network_graph(graph)\n",
    "plt.savefig('blue_MultiDiSpring_sample1.png')"
   ]
  },
  {
   "cell_type": "code",
   "execution_count": 18,
   "metadata": {},
   "outputs": [
    {
     "data": {
      "text/plain": [
       "OutMultiEdgeDataView([('L.lysine', 'acetate', {'weight': 0.4181451850639071}), ('L.lysine', 'butanoate', {'weight': 0.43227630469025635}), ('acetate', 'acetyl.CoA', {'weight': 0.3162420370236998}), ('pyruvate', 'acetate', {'weight': 0.5072149241127035}), ('pyruvate', 'acetyl.CoA', {'weight': 0.9877007487827949}), ('acetyl.CoA', 'acetate', {'weight': 0.9788349220010882}), ('unknown3', 'L.lysine', {'weight': 0.1203563649184145}), ('unknown4', 'L.lysine', {'weight': 0.1560439478421365}), ('unknown5', 'L.lysine', {'weight': 0.8327284118339113}), ('acetoacetate', 'acetyl.CoA', {'weight': 0.8066192226571842})])"
      ]
     },
     "execution_count": 18,
     "metadata": {},
     "output_type": "execute_result"
    }
   ],
   "source": [
    "graph.nodes\n",
    "graph.edges(data=True)\n"
   ]
  },
  {
   "cell_type": "code",
   "execution_count": 19,
   "metadata": {},
   "outputs": [
    {
     "data": {
      "text/plain": [
       "True"
      ]
     },
     "execution_count": 19,
     "metadata": {},
     "output_type": "execute_result"
    }
   ],
   "source": [
    "graph.is_directed()"
   ]
  },
  {
   "cell_type": "code",
   "execution_count": 20,
   "metadata": {},
   "outputs": [
    {
     "data": {
      "text/plain": [
       "True"
      ]
     },
     "execution_count": 20,
     "metadata": {},
     "output_type": "execute_result"
    }
   ],
   "source": [
    "graph.is_multigraph()"
   ]
  },
  {
   "cell_type": "code",
   "execution_count": 21,
   "metadata": {},
   "outputs": [],
   "source": [
    "import matplotlib.pyplot as plt"
   ]
  },
  {
   "cell_type": "code",
   "execution_count": 22,
   "metadata": {},
   "outputs": [
    {
     "ename": "AttributeError",
     "evalue": "module 'matplotlib.pyplot' has no attribute 'figs'",
     "output_type": "error",
     "traceback": [
      "\u001b[0;31m---------------------------------------------------------------------------\u001b[0m",
      "\u001b[0;31mAttributeError\u001b[0m                            Traceback (most recent call last)",
      "\u001b[0;32m<ipython-input-22-fef1fd295ae8>\u001b[0m in \u001b[0;36m<module>\u001b[0;34m\u001b[0m\n\u001b[0;32m----> 1\u001b[0;31m \u001b[0mplt\u001b[0m\u001b[0;34m.\u001b[0m\u001b[0mfigs\u001b[0m\u001b[0;34m\u001b[0m\u001b[0;34m\u001b[0m\u001b[0m\n\u001b[0m",
      "\u001b[0;31mAttributeError\u001b[0m: module 'matplotlib.pyplot' has no attribute 'figs'"
     ]
    }
   ],
   "source": [
    "plt.figs"
   ]
  }
 ],
 "metadata": {
  "kernelspec": {
   "display_name": "Python 3",
   "language": "python",
   "name": "python3"
  },
  "language_info": {
   "codemirror_mode": {
    "name": "ipython",
    "version": 3
   },
   "file_extension": ".py",
   "mimetype": "text/x-python",
   "name": "python",
   "nbconvert_exporter": "python",
   "pygments_lexer": "ipython3",
   "version": "3.7.4"
  }
 },
 "nbformat": 4,
 "nbformat_minor": 2
}
