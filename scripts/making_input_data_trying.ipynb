{
 "cells": [
  {
   "cell_type": "code",
   "execution_count": null,
   "metadata": {},
   "outputs": [],
   "source": [
    "import pandas as pd"
   ]
  },
  {
   "cell_type": "code",
   "execution_count": null,
   "metadata": {},
   "outputs": [],
   "source": [
    "# getting the raw data:\n",
    "raw_data = pd.read_csv(\"./sample_raw_input.csv\",\n",
    "                      nrows=1)\n",
    "## all rows below got NaN and weird values\n",
    "\n",
    "raw_data.head()"
   ]
  },
  {
   "cell_type": "code",
   "execution_count": null,
   "metadata": {},
   "outputs": [],
   "source": [
    "# make it long format:\n",
    "long_data = pd.melt(raw_data, var_name=\"pathways\",value_name=\"amount\")"
   ]
  },
  {
   "cell_type": "code",
   "execution_count": null,
   "metadata": {},
   "outputs": [],
   "source": [
    "long_data"
   ]
  },
  {
   "cell_type": "code",
   "execution_count": null,
   "metadata": {},
   "outputs": [],
   "source": [
    "# now do some RegEx to format for networkx graph:\n",
    "\n",
    "# format for: nx.from_pandas_edgelist(df,source,target,attr)\n",
    "\n",
    "# 1. make basic DF with specified col name:\n",
    "dfInput4nx = pd.DataFrame(columns=[\"source\",\"target\",\"weight\"])\n"
   ]
  },
  {
   "cell_type": "code",
   "execution_count": null,
   "metadata": {},
   "outputs": [],
   "source": [
    "long_data[\"pathways\"]"
   ]
  },
  {
   "cell_type": "code",
   "execution_count": null,
   "metadata": {},
   "outputs": [],
   "source": [
    "import re\n",
    "\n",
    "m = re.search(\"[^(and)]\", \"L.lysine.fermentation.to.acetate.and.butanoate\")\n",
    "\n",
    "m.group()\n"
   ]
  },
  {
   "cell_type": "code",
   "execution_count": null,
   "metadata": {},
   "outputs": [],
   "source": [
    "# compiling regex:\n",
    "\n",
    "# in case of 'to':\n",
    "p_to_source = re.compile(\"\\S+?(?=\\.+to)\")\n",
    "p_to_target = re.compile(\"(?<=\\.to.)\\S+\")\n",
    "\n",
    "# target has 'and':\n",
    "p_and_firstT = re.compile(\"\\S+(?=\\.and\\.)\")\n",
    "p_and_secondT = re.compile(\"(?<=\\.and\\.)\\S+\")\n",
    "\n",
    "# sourse: just get the metabolite:\n",
    "s_no_ion = re.compile(\"\\S+(?=\\.\\w+ion)\")\n",
    "\n",
    "# replacing biosynthesis only's:\n",
    "t_no_synth4sub = re.compile(\"\\.\\w+synthesis\\S*\")\n",
    "\n",
    "# getting rid of roman numerals:\n",
    "p_no_IV = re.compile(\"\\.[IV]*$\")\n",
    "\n",
    "# getting before & after 'from':\n",
    "t_from = re.compile(\"\\S+(?=\\.\\S*from\\.\\S*)\")\n",
    "s_from = re.compile(\"(?<=from\\.)\\S+\")"
   ]
  },
  {
   "cell_type": "code",
   "execution_count": null,
   "metadata": {},
   "outputs": [],
   "source": [
    "## testing \n",
    "wordT = \"acetate.and.butanoate\"\n",
    "re.search(p_and_firstT,wordT)\n",
    "\n",
    "wordS = \"L.lysine.fermentation.to\"\n",
    "re.search(s_no_ion,wordS)\n",
    "\n",
    "synth = \"L.lysine.biosynthesis.III\"\n",
    "re.search(t_no_synth4sub,synth)\n",
    "\n",
    "re.search(s_no_ion,\"acetate.formation\")\n",
    "\n",
    "re.search(t_from,\"acetate.formation.from.acetyl.CoA\")"
   ]
  },
  {
   "cell_type": "code",
   "execution_count": null,
   "metadata": {
    "scrolled": true
   },
   "outputs": [],
   "source": [
    "# 1. make basic DF with specified col name:\n",
    "dfInput4nx = pd.DataFrame(columns=[\"source\",\"target\",\"weight\"])\n",
    "\n",
    "# 2. RegEx the pathway names to get source and target and fill in weight accordingly\n",
    "\n",
    "## brute forcing lol:\n",
    "for rowNum in range(len(long_data)):\n",
    "    path=long_data[\"pathways\"][rowNum]\n",
    "    print(rowNum,path)\n",
    "    weight = long_data[\"amount\"][rowNum]\n",
    "    \n",
    "    # if path has roman numerals or period attached:\n",
    "    if re.search(p_no_IV,path):\n",
    "        path=re.sub(p_no_IV,\"\",path)\n",
    "    \n",
    "    # if 'to' format:\n",
    "    if re.search(\"\\.to\\.\", path):\n",
    "        source = re.search(p_to_source,path).group()\n",
    "        # if source has -ion attached:\n",
    "        if re.search(s_no_ion,source):\n",
    "            source = re.search(s_no_ion,source).group()\n",
    "            \n",
    "        target = re.search(p_to_target,path).group()\n",
    "        \n",
    "        # if resulting target more than 1:\n",
    "        if re.search(\"and\",target):\n",
    "            #print(target)\n",
    "            #print(re.search(p_and_firstT,target))\n",
    "            target1=re.search(p_and_firstT,target).group()\n",
    "            target2=re.search(p_and_secondT,target).group()\n",
    "            \n",
    "            dfInput4nx= dfInput4nx.append({\"source\":source, \"target\":target1, \"weight\":weight},ignore_index=True)\n",
    "            dfInput4nx= dfInput4nx.append({\"source\":source, \"target\":target2, \"weight\":weight},ignore_index=True)\n",
    "            \n",
    "        # if target is just 1:\n",
    "        else:\n",
    "            # adding all the info to the df:\n",
    "            dfInput4nx= dfInput4nx.append({\"source\":source, \"target\":target, \"weight\":weight},ignore_index=True)\n",
    "            \n",
    "    # if it has 'synthesis' but no 'to':\n",
    "    if re.search(t_no_synth4sub,path):\n",
    "        source = \"unknown\"+str(rowNum)\n",
    "        target = re.sub(t_no_synth4sub,\"\",path)\n",
    "        dfInput4nx=dfInput4nx.append({\"source\":source, \"target\":target, \"weight\":weight},ignore_index=True)\n",
    "        \n",
    "    # if it's 'from' format:\n",
    "    if re.search(\"from\",path):\n",
    "        source = re.search(s_from,path).group()\n",
    "        \n",
    "        target = re.search(t_from,path).group()\n",
    "        # if target has -ion attached:\n",
    "        if re.search(s_no_ion,target):\n",
    "            target = re.search(s_no_ion,target).group()\n",
    "            \n",
    "        dfInput4nx =dfInput4nx.append({\"source\":source, \"target\":target, \"weight\":weight}, ignore_index=True)\n",
    "        \n",
    "        print(path,source,target,weight)\n",
    "\n",
    "    \n",
    "dfInput4nx    "
   ]
  },
  {
   "cell_type": "code",
   "execution_count": null,
   "metadata": {},
   "outputs": [],
   "source": []
  },
  {
   "cell_type": "code",
   "execution_count": null,
   "metadata": {},
   "outputs": [],
   "source": []
  },
  {
   "cell_type": "code",
   "execution_count": null,
   "metadata": {},
   "outputs": [],
   "source": [
    "import network_analysis as nt"
   ]
  },
  {
   "cell_type": "code",
   "execution_count": null,
   "metadata": {},
   "outputs": [],
   "source": [
    "from imp import reload\n",
    "reload(nt)"
   ]
  },
  {
   "cell_type": "code",
   "execution_count": null,
   "metadata": {},
   "outputs": [],
   "source": [
    "graph = nt.initialize_graph(dfInput4nx)"
   ]
  },
  {
   "cell_type": "code",
   "execution_count": null,
   "metadata": {},
   "outputs": [],
   "source": [
    "nt.draw_network_graph(graph)"
   ]
  },
  {
   "cell_type": "code",
   "execution_count": null,
   "metadata": {},
   "outputs": [],
   "source": [
    "import matplotlib.pyplot as plt\n",
    "plt.savefig('blue_MultiDiSpring_sample1.png')"
   ]
  },
  {
   "cell_type": "code",
   "execution_count": null,
   "metadata": {},
   "outputs": [],
   "source": [
    "def draw_network_graph(graph):\n",
    "    \"\"\"\n",
    "    Plots the network graph taken from the input\n",
    "    \"\"\"\n",
    "    import networkx as nx\n",
    "    import matplotlib.pyplot as plt\n",
    "    import random\n",
    "    \n",
    "    for u,v,d in graph.edges(data=True):\n",
    "        d['weight'] = random.random()\n",
    "\n",
    "    edges,weights = zip(*nx.get_edge_attributes(graph,'weight').items())\n",
    "\n",
    "    \n",
    "    nx.draw_networkx(graph, \n",
    "                     with_labels=True,\n",
    "                     arrows=True, \n",
    "                     arrowsize=20,\n",
    "                     node_size=900,\n",
    "                     node_color='skyblue',\n",
    "                     width=6,\n",
    "                    pos=nx.spring_layout(graph,k=4),\n",
    "                    edge_cmap=plt.cm.GnBu,\n",
    "                    edge_color=weights,\n",
    "                    edgelist=edges,\n",
    "                    font_size=14)\n",
    "    \n",
    "    #plt.figure(figsize=(60,40))\n",
    "    ax = plt.gca()\n",
    "    plt.axis(\"off\")\n",
    "    ax.margins(0.08)\n",
    "    \n",
    "    plt.tight_layout()\n",
    "    plt.show()\n"
   ]
  },
  {
   "cell_type": "code",
   "execution_count": null,
   "metadata": {},
   "outputs": [],
   "source": [
    "draw_network_graph(graph)\n",
    "plt.savefig('blue_MultiDiSpring_sample1.png')"
   ]
  },
  {
   "cell_type": "code",
   "execution_count": null,
   "metadata": {},
   "outputs": [],
   "source": [
    "graph.nodes\n",
    "graph.edges(data=True)\n"
   ]
  },
  {
   "cell_type": "code",
   "execution_count": null,
   "metadata": {},
   "outputs": [],
   "source": [
    "graph.is_directed()"
   ]
  },
  {
   "cell_type": "code",
   "execution_count": null,
   "metadata": {},
   "outputs": [],
   "source": [
    "graph.is_multigraph()"
   ]
  },
  {
   "cell_type": "code",
   "execution_count": null,
   "metadata": {},
   "outputs": [],
   "source": [
    "import matplotlib.pyplot as plt"
   ]
  },
  {
   "cell_type": "code",
   "execution_count": null,
   "metadata": {},
   "outputs": [],
   "source": [
    "plt.figs"
   ]
  }
 ],
 "metadata": {
  "kernelspec": {
   "display_name": "Python 3",
   "language": "python",
   "name": "python3"
  },
  "language_info": {
   "codemirror_mode": {
    "name": "ipython",
    "version": 3
   },
   "file_extension": ".py",
   "mimetype": "text/x-python",
   "name": "python",
   "nbconvert_exporter": "python",
   "pygments_lexer": "ipython3",
   "version": "3.7.4"
  }
 },
 "nbformat": 4,
 "nbformat_minor": 2
}
