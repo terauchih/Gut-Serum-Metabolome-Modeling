{
 "cells": [
  {
   "cell_type": "markdown",
   "metadata": {},
   "source": [
    "# Step by step example of use"
   ]
  },
  {
   "cell_type": "code",
   "execution_count": null,
   "metadata": {},
   "outputs": [],
   "source": []
  },
  {
   "cell_type": "code",
   "execution_count": null,
   "metadata": {},
   "outputs": [],
   "source": []
  },
  {
   "cell_type": "markdown",
   "metadata": {},
   "source": [
    "### Import the scripts:"
   ]
  },
  {
   "cell_type": "code",
   "execution_count": 2,
   "metadata": {},
   "outputs": [],
   "source": [
    "import network_analysis as na"
   ]
  },
  {
   "cell_type": "code",
   "execution_count": 3,
   "metadata": {},
   "outputs": [],
   "source": [
    "from imp import reload"
   ]
  },
  {
   "cell_type": "code",
   "execution_count": 53,
   "metadata": {},
   "outputs": [
    {
     "data": {
      "text/plain": [
       "<module 'network_analysis' from '/Users/hinakoterauchi/Google_Drive/CMSE802/Gut-Serum-Metabolome-Modeling/scripts/network_analysis.py'>"
      ]
     },
     "execution_count": 53,
     "metadata": {},
     "output_type": "execute_result"
    }
   ],
   "source": [
    "reload(na)"
   ]
  },
  {
   "cell_type": "markdown",
   "metadata": {},
   "source": [
    "### 1. Make a fake input data dictionary"
   ]
  },
  {
   "cell_type": "code",
   "execution_count": 54,
   "metadata": {},
   "outputs": [
    {
     "name": "stdout",
     "output_type": "stream",
     "text": [
      "fake data: {'bacA': {'relativeAbundance': 0.1, 'pathways': {'pathA': {'in': 'a', 'out': ('b', 'c')}}}, 'bacB': {'relativeAbundance': 0.4, 'pathways': {'pathB': {'in': 'b', 'out': 'c'}}}, 'bacC': {'relativeAbundance': 0.5, 'pathways': {'pathC': {'in': 'c', 'out': ('a', 'b')}, 'pathD': {'in': 'c', 'out': 'd'}}}}\n"
     ]
    }
   ],
   "source": [
    "nodes = na.make_fake_data()"
   ]
  },
  {
   "cell_type": "code",
   "execution_count": 56,
   "metadata": {},
   "outputs": [
    {
     "name": "stdout",
     "output_type": "stream",
     "text": [
      "0.1\n",
      "{'pathA': {'in': 'a', 'out': ('b', 'c')}}\n",
      "0.4\n",
      "{'pathB': {'in': 'b', 'out': 'c'}}\n",
      "0.5\n",
      "{'pathC': {'in': 'c', 'out': ('a', 'b')}, 'pathD': {'in': 'c', 'out': 'd'}}\n"
     ]
    }
   ],
   "source": [
    "graph = na.initialize_graph(nodes)"
   ]
  },
  {
   "cell_type": "code",
   "execution_count": 57,
   "metadata": {},
   "outputs": [
    {
     "data": {
      "text/plain": [
       "[{'pathA': {'in': 'a', 'out': ('b', 'c')}},\n",
       " {'pathB': {'in': 'b', 'out': 'c'}},\n",
       " {'pathC': {'in': 'c', 'out': ('a', 'b')}, 'pathD': {'in': 'c', 'out': 'd'}}]"
      ]
     },
     "execution_count": 57,
     "metadata": {},
     "output_type": "execute_result"
    }
   ],
   "source": [
    "path\n",
    "\n"
   ]
  },
  {
   "cell_type": "code",
   "execution_count": 58,
   "metadata": {},
   "outputs": [
    {
     "data": {
      "text/plain": [
       "NodeDataView({'bacA': {'relativeAbundance': 0.1}, 'bacB': {'relativeAbundance': 0.4}, 'bacC': {'relativeAbundance': 0.5}, 'a': {}, ('b', 'c'): {}, 'b': {}, 'c': {}, ('a', 'b'): {}, 'd': {}})"
      ]
     },
     "execution_count": 58,
     "metadata": {},
     "output_type": "execute_result"
    }
   ],
   "source": [
    "graph.nodes.data()"
   ]
  },
  {
   "cell_type": "code",
   "execution_count": 59,
   "metadata": {},
   "outputs": [
    {
     "data": {
      "text/plain": [
       "OutMultiEdgeDataView([('a', ('b', 'c')), ('b', 'c'), ('c', ('a', 'b')), ('c', 'd')])"
      ]
     },
     "execution_count": 59,
     "metadata": {},
     "output_type": "execute_result"
    }
   ],
   "source": [
    "graph.edges()"
   ]
  },
  {
   "cell_type": "raw",
   "metadata": {},
   "source": []
  },
  {
   "cell_type": "code",
   "execution_count": null,
   "metadata": {},
   "outputs": [],
   "source": []
  },
  {
   "cell_type": "code",
   "execution_count": null,
   "metadata": {},
   "outputs": [],
   "source": []
  },
  {
   "cell_type": "code",
   "execution_count": null,
   "metadata": {},
   "outputs": [],
   "source": []
  },
  {
   "cell_type": "code",
   "execution_count": null,
   "metadata": {},
   "outputs": [],
   "source": []
  }
 ],
 "metadata": {
  "kernelspec": {
   "display_name": "Python 3",
   "language": "python",
   "name": "python3"
  },
  "language_info": {
   "codemirror_mode": {
    "name": "ipython",
    "version": 3
   },
   "file_extension": ".py",
   "mimetype": "text/x-python",
   "name": "python",
   "nbconvert_exporter": "python",
   "pygments_lexer": "ipython3",
   "version": "3.7.4"
  }
 },
 "nbformat": 4,
 "nbformat_minor": 2
}
