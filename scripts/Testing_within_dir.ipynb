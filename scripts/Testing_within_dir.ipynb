{
 "cells": [
  {
   "cell_type": "markdown",
   "metadata": {},
   "source": [
    "### 1. testing fake data: "
   ]
  },
  {
   "cell_type": "code",
   "execution_count": 33,
   "metadata": {},
   "outputs": [],
   "source": [
    "# testing making fake data\n",
    "import network_analysis as na"
   ]
  },
  {
   "cell_type": "code",
   "execution_count": 34,
   "metadata": {},
   "outputs": [
    {
     "data": {
      "text/plain": [
       "<module 'network_analysis' from '/Users/hinakoterauchi/Google_Drive/CMSE802/Gut-Serum-Metabolome-Modeling/scripts/network_analysis.py'>"
      ]
     },
     "execution_count": 34,
     "metadata": {},
     "output_type": "execute_result"
    }
   ],
   "source": [
    "from imp import reload\n",
    "reload(na)"
   ]
  },
  {
   "cell_type": "code",
   "execution_count": 35,
   "metadata": {},
   "outputs": [
    {
     "name": "stdout",
     "output_type": "stream",
     "text": [
      "fake data: {'bacA': {'relativeAbundance': 0.1, 'pathways': {'pathA': {'in': 'a', 'out': ('b', 'c')}}}, 'bacB': {'relativeAbundance': 0.4, 'pathways': {'pathB': {'in': 'b', 'out': 'c'}}}, 'bacC': {'relativeAbundance': 0.5, 'pathways': {'pathC': {'in': 'c', 'out': ('a', 'b')}, 'pathD': {'in': 'c', 'out': 'd'}}}}\n"
     ]
    }
   ],
   "source": [
    "# making fake data:\n",
    "fdata = na.make_fake_data()"
   ]
  },
  {
   "cell_type": "code",
   "execution_count": 36,
   "metadata": {},
   "outputs": [
    {
     "data": {
      "text/plain": [
       "{'bacA': {'relativeAbundance': 0.1,\n",
       "  'pathways': {'pathA': {'in': 'a', 'out': ('b', 'c')}}},\n",
       " 'bacB': {'relativeAbundance': 0.4,\n",
       "  'pathways': {'pathB': {'in': 'b', 'out': 'c'}}},\n",
       " 'bacC': {'relativeAbundance': 0.5,\n",
       "  'pathways': {'pathC': {'in': 'c', 'out': ('a', 'b')},\n",
       "   'pathD': {'in': 'c', 'out': 'd'}}}}"
      ]
     },
     "execution_count": 36,
     "metadata": {},
     "output_type": "execute_result"
    }
   ],
   "source": [
    "fdata"
   ]
  },
  {
   "cell_type": "markdown",
   "metadata": {},
   "source": [
    "# adding nodes function:\n",
    "iterate thru each key and add the node\n",
    "then add weight attr with relative abundance\n",
    "also add pathways attributes : in and out \n",
    "        \n",
    "        \n"
   ]
  },
  {
   "cell_type": "code",
   "execution_count": 37,
   "metadata": {},
   "outputs": [
    {
     "name": "stdout",
     "output_type": "stream",
     "text": [
      "bacA\n",
      "<class 'str'>\n",
      "bacB\n",
      "<class 'str'>\n",
      "bacC\n",
      "<class 'str'>\n"
     ]
    }
   ],
   "source": [
    "for node in fdata.keys():\n",
    "    print(node)\n",
    "    print(type(node))"
   ]
  },
  {
   "cell_type": "code",
   "execution_count": 38,
   "metadata": {},
   "outputs": [
    {
     "data": {
      "text/plain": [
       "dict_keys(['bacA', 'bacB', 'bacC'])"
      ]
     },
     "execution_count": 38,
     "metadata": {},
     "output_type": "execute_result"
    }
   ],
   "source": [
    "fdata.keys()"
   ]
  },
  {
   "cell_type": "markdown",
   "metadata": {},
   "source": [
    "# adding multi-directional edges"
   ]
  },
  {
   "cell_type": "code",
   "execution_count": 32,
   "metadata": {},
   "outputs": [
    {
     "name": "stdout",
     "output_type": "stream",
     "text": [
      "val: {'relativeAbundance': 0.1, 'pathways': {'pathA': {'in': 'a', 'out': ('b', 'c')}}}\n",
      "key: bacA\n",
      "0.1\n"
     ]
    },
    {
     "ename": "NameError",
     "evalue": "name 'graph' is not defined",
     "output_type": "error",
     "traceback": [
      "\u001b[0;31m---------------------------------------------------------------------------\u001b[0m",
      "\u001b[0;31mNameError\u001b[0m                                 Traceback (most recent call last)",
      "\u001b[0;32m<ipython-input-32-d5b75e342b20>\u001b[0m in \u001b[0;36m<module>\u001b[0;34m\u001b[0m\n\u001b[1;32m      6\u001b[0m         \u001b[0;32mif\u001b[0m \u001b[0mitem\u001b[0m \u001b[0;34m==\u001b[0m \u001b[0;34m\"relativeAbundance\"\u001b[0m\u001b[0;34m:\u001b[0m\u001b[0;34m\u001b[0m\u001b[0;34m\u001b[0m\u001b[0m\n\u001b[1;32m      7\u001b[0m             \u001b[0mprint\u001b[0m\u001b[0;34m(\u001b[0m\u001b[0mval\u001b[0m\u001b[0;34m[\u001b[0m\u001b[0mitem\u001b[0m\u001b[0;34m]\u001b[0m\u001b[0;34m)\u001b[0m\u001b[0;34m\u001b[0m\u001b[0;34m\u001b[0m\u001b[0m\n\u001b[0;32m----> 8\u001b[0;31m             \u001b[0mgraph\u001b[0m\u001b[0;34m.\u001b[0m\u001b[0mnodes\u001b[0m\u001b[0;34m[\u001b[0m\u001b[0mkey\u001b[0m\u001b[0;34m]\u001b[0m\u001b[0;34m[\u001b[0m\u001b[0mitem\u001b[0m\u001b[0;34m]\u001b[0m\u001b[0;34m=\u001b[0m\u001b[0mval\u001b[0m\u001b[0;34m[\u001b[0m\u001b[0mitem\u001b[0m\u001b[0;34m]\u001b[0m\u001b[0;34m\u001b[0m\u001b[0;34m\u001b[0m\u001b[0m\n\u001b[0m\u001b[1;32m      9\u001b[0m \u001b[0;34m\u001b[0m\u001b[0m\n\u001b[1;32m     10\u001b[0m         \u001b[0;31m# Get the directions:\u001b[0m\u001b[0;34m\u001b[0m\u001b[0;34m\u001b[0m\u001b[0;34m\u001b[0m\u001b[0m\n",
      "\u001b[0;31mNameError\u001b[0m: name 'graph' is not defined"
     ]
    }
   ],
   "source": [
    "for key, val in fdata.items():\n",
    "    print(\"val:\",val)\n",
    "    print(\"key:\",key)\n",
    "    for item in val.keys():\n",
    "        # add node attribute:\n",
    "        if item == \"relativeAbundance\":\n",
    "            print(val[item])\n",
    "            graph.nodes[key][item]=val[item]\n",
    "        \n",
    "        # Get the directions:\n",
    "        elif k == \"pathways\":\n",
    "            # call edge drxn function \n",
    "            continue"
   ]
  },
  {
   "cell_type": "markdown",
   "metadata": {},
   "source": [
    "# adding edge directions:\n"
   ]
  },
  {
   "cell_type": "code",
   "execution_count": 70,
   "metadata": {},
   "outputs": [
    {
     "name": "stdout",
     "output_type": "stream",
     "text": [
      "0.1\n",
      "0.4\n",
      "0.5\n"
     ]
    }
   ],
   "source": [
    "graph, path = na.initialize_graph(fdata)"
   ]
  },
  {
   "cell_type": "code",
   "execution_count": 71,
   "metadata": {},
   "outputs": [
    {
     "data": {
      "text/plain": [
       "[{'pathA': {'in': 'a', 'out': ('b', 'c')}},\n",
       " {'pathB': {'in': 'b', 'out': 'c'}},\n",
       " {'pathC': {'in': 'c', 'out': ('a', 'b')}, 'pathD': {'in': 'c', 'out': 'd'}}]"
      ]
     },
     "execution_count": 71,
     "metadata": {},
     "output_type": "execute_result"
    }
   ],
   "source": [
    "path"
   ]
  },
  {
   "cell_type": "code",
   "execution_count": 72,
   "metadata": {},
   "outputs": [
    {
     "name": "stdout",
     "output_type": "stream",
     "text": [
      "<class 'str'>\n",
      "pathA {'in': 'a', 'out': ('b', 'c')}\n",
      "a ('b', 'c')\n",
      "<class 'str'>\n",
      "pathB {'in': 'b', 'out': 'c'}\n",
      "b c\n",
      "<class 'str'>\n",
      "pathC {'in': 'c', 'out': ('a', 'b')}\n",
      "c ('a', 'b')\n",
      "<class 'str'>\n",
      "pathD {'in': 'c', 'out': 'd'}\n",
      "c d\n"
     ]
    }
   ],
   "source": [
    "for pathDict in path:\n",
    "    \n",
    "    for key, val in pathDict.items():\n",
    "        print(type(key))\n",
    "        print(key, val)\n",
    "        \n",
    "        graph.add_edge(val[\"in\"],val[\"out\"], pathway_name = key)\n",
    "        print(val[\"in\"], val[\"out\"])"
   ]
  },
  {
   "cell_type": "code",
   "execution_count": 73,
   "metadata": {},
   "outputs": [
    {
     "name": "stdout",
     "output_type": "stream",
     "text": [
      "('a', ('b', 'c'))\n",
      "('b', 'c')\n",
      "('c', ('a', 'b'))\n",
      "('c', 'd')\n"
     ]
    }
   ],
   "source": [
    "for e in graph.edges():\n",
    "    print(e)"
   ]
  },
  {
   "cell_type": "code",
   "execution_count": null,
   "metadata": {},
   "outputs": [],
   "source": []
  },
  {
   "cell_type": "code",
   "execution_count": null,
   "metadata": {},
   "outputs": [],
   "source": []
  },
  {
   "cell_type": "code",
   "execution_count": null,
   "metadata": {},
   "outputs": [],
   "source": [
    "na.draw_network_graph(G)"
   ]
  },
  {
   "cell_type": "code",
   "execution_count": null,
   "metadata": {},
   "outputs": [],
   "source": []
  }
 ],
 "metadata": {
  "kernelspec": {
   "display_name": "Python 3",
   "language": "python",
   "name": "python3"
  },
  "language_info": {
   "codemirror_mode": {
    "name": "ipython",
    "version": 3
   },
   "file_extension": ".py",
   "mimetype": "text/x-python",
   "name": "python",
   "nbconvert_exporter": "python",
   "pygments_lexer": "ipython3",
   "version": "3.7.4"
  }
 },
 "nbformat": 4,
 "nbformat_minor": 2
}
