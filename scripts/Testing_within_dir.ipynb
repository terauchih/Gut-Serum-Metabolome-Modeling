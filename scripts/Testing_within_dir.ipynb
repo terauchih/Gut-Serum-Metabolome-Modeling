{
 "cells": [
  {
   "cell_type": "markdown",
   "metadata": {},
   "source": [
    "### 1. testing fake data: "
   ]
  },
  {
   "cell_type": "code",
   "execution_count": 1,
   "metadata": {},
   "outputs": [],
   "source": [
    "# testing making fake data\n",
    "import network_analysis as nt"
   ]
  },
  {
   "cell_type": "code",
   "execution_count": 2,
   "metadata": {},
   "outputs": [
    {
     "data": {
      "text/plain": [
       "<module 'network_analysis' from '/Users/hinakoterauchi/Google_Drive/CMSE802/Gut-Serum-Metabolome-Modeling/scripts/network_analysis.py'>"
      ]
     },
     "execution_count": 2,
     "metadata": {},
     "output_type": "execute_result"
    }
   ],
   "source": [
    "from imp import reload\n",
    "reload(nt)"
   ]
  },
  {
   "cell_type": "code",
   "execution_count": 3,
   "metadata": {},
   "outputs": [
    {
     "name": "stdout",
     "output_type": "stream",
     "text": [
      "fake data: {'bacA': {'relativeAbundance': 0.1, 'pathways': {'pathA': {'in': 'a', 'out': ('b', 'c')}}}, 'bacB': {'relativeAbundance': 0.4, 'pathways': {'pathB': {'in': 'b', 'out': 'c'}}}, 'bacC': {'relativeAbundance': 0.5, 'pathways': {'pathC': {'in': 'c', 'out': ('a', 'b')}, 'pathD': {'in': 'c', 'out': 'd'}}}}\n"
     ]
    }
   ],
   "source": [
    "# making fake data:\n",
    "fdata = nt.make_fake_data()"
   ]
  },
  {
   "cell_type": "code",
   "execution_count": 4,
   "metadata": {},
   "outputs": [
    {
     "data": {
      "text/plain": [
       "{'bacA': {'relativeAbundance': 0.1,\n",
       "  'pathways': {'pathA': {'in': 'a', 'out': ('b', 'c')}}},\n",
       " 'bacB': {'relativeAbundance': 0.4,\n",
       "  'pathways': {'pathB': {'in': 'b', 'out': 'c'}}},\n",
       " 'bacC': {'relativeAbundance': 0.5,\n",
       "  'pathways': {'pathC': {'in': 'c', 'out': ('a', 'b')},\n",
       "   'pathD': {'in': 'c', 'out': 'd'}}}}"
      ]
     },
     "execution_count": 4,
     "metadata": {},
     "output_type": "execute_result"
    }
   ],
   "source": [
    "fdata"
   ]
  },
  {
   "cell_type": "code",
   "execution_count": null,
   "metadata": {},
   "outputs": [],
   "source": [
    "# adding nodes function:\n",
    "iterate thru each key and add the node\n",
    "then add weight attr with relative abundance\n",
    "also add pathways attributes : in and out \n",
    "        \n",
    "        \n"
   ]
  },
  {
   "cell_type": "code",
   "execution_count": null,
   "metadata": {},
   "outputs": [],
   "source": []
  },
  {
   "cell_type": "code",
   "execution_count": null,
   "metadata": {},
   "outputs": [],
   "source": []
  },
  {
   "cell_type": "code",
   "execution_count": null,
   "metadata": {},
   "outputs": [],
   "source": [
    "nt.draw_network_graph(G)"
   ]
  },
  {
   "cell_type": "code",
   "execution_count": null,
   "metadata": {},
   "outputs": [],
   "source": []
  }
 ],
 "metadata": {
  "kernelspec": {
   "display_name": "Python 3",
   "language": "python",
   "name": "python3"
  },
  "language_info": {
   "codemirror_mode": {
    "name": "ipython",
    "version": 3
   },
   "file_extension": ".py",
   "mimetype": "text/x-python",
   "name": "python",
   "nbconvert_exporter": "python",
   "pygments_lexer": "ipython3",
   "version": "3.7.4"
  }
 },
 "nbformat": 4,
 "nbformat_minor": 2
}
