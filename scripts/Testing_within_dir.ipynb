{
 "cells": [
  {
   "cell_type": "markdown",
   "metadata": {},
   "source": [
    "### 1. testing fake data: "
   ]
  },
  {
   "cell_type": "code",
   "execution_count": null,
   "metadata": {},
   "outputs": [],
   "source": []
  },
  {
   "cell_type": "code",
   "execution_count": 1,
   "metadata": {},
   "outputs": [],
   "source": [
    "# testing making fake data\n",
    "import network_analysis as nt"
   ]
  },
  {
   "cell_type": "code",
   "execution_count": 2,
   "metadata": {},
   "outputs": [
    {
     "data": {
      "text/plain": [
       "<module 'network_analysis' from '/Users/hinakoterauchi/Google_Drive/CMSE802/Gut-Serum-Metabolome-Modeling/scripts/network_analysis.py'>"
      ]
     },
     "execution_count": 2,
     "metadata": {},
     "output_type": "execute_result"
    }
   ],
   "source": [
    "from imp import reload\n",
    "reload(nt)"
   ]
  },
  {
   "cell_type": "code",
   "execution_count": 3,
   "metadata": {},
   "outputs": [
    {
     "name": "stdout",
     "output_type": "stream",
     "text": [
      "fake data: {'bacA': {'relativeAbundance': 0.1, 'pathways': {'pathA': {'in': 'a', 'out': ('b', 'c')}}}, 'bacB': {'relativeAbundance': 0.4, 'pathways': {'pathB': {'in': 'b', 'out': 'c'}}}, 'bacC': {'relativeAbundance': 0.5, 'pathways': {'pathC': {'in': 'c', 'out': ('a', 'b')}, 'pathD': {'in': 'c', 'out': 'd'}}}}\n"
     ]
    }
   ],
   "source": [
    "# making fake data:\n",
    "fdata = nt.make_fake_data()"
   ]
  },
  {
   "cell_type": "code",
   "execution_count": 4,
   "metadata": {},
   "outputs": [
    {
     "data": {
      "text/plain": [
       "{'bacA': {'relativeAbundance': 0.1,\n",
       "  'pathways': {'pathA': {'in': 'a', 'out': ('b', 'c')}}},\n",
       " 'bacB': {'relativeAbundance': 0.4,\n",
       "  'pathways': {'pathB': {'in': 'b', 'out': 'c'}}},\n",
       " 'bacC': {'relativeAbundance': 0.5,\n",
       "  'pathways': {'pathC': {'in': 'c', 'out': ('a', 'b')},\n",
       "   'pathD': {'in': 'c', 'out': 'd'}}}}"
      ]
     },
     "execution_count": 4,
     "metadata": {},
     "output_type": "execute_result"
    }
   ],
   "source": [
    "fdata"
   ]
  },
  {
   "cell_type": "markdown",
   "metadata": {},
   "source": [
    "# adding nodes function:\n",
    "iterate thru each key and add the node\n",
    "then add weight attr with relative abundance\n",
    "also add pathways attributes : in and out \n",
    "        \n",
    "        \n"
   ]
  },
  {
   "cell_type": "code",
   "execution_count": 5,
   "metadata": {},
   "outputs": [
    {
     "name": "stdout",
     "output_type": "stream",
     "text": [
      "bacA\n",
      "<class 'str'>\n",
      "bacB\n",
      "<class 'str'>\n",
      "bacC\n",
      "<class 'str'>\n"
     ]
    }
   ],
   "source": [
    "for node in fdata.keys():\n",
    "    print(node)\n",
    "    print(type(node))"
   ]
  },
  {
   "cell_type": "code",
   "execution_count": 6,
   "metadata": {},
   "outputs": [
    {
     "data": {
      "text/plain": [
       "dict_keys(['bacA', 'bacB', 'bacC'])"
      ]
     },
     "execution_count": 6,
     "metadata": {},
     "output_type": "execute_result"
    }
   ],
   "source": [
    "fdata.keys()"
   ]
  },
  {
   "cell_type": "markdown",
   "metadata": {},
   "source": [
    "# adding multi-directional edges"
   ]
  },
  {
   "cell_type": "code",
   "execution_count": 8,
   "metadata": {},
   "outputs": [],
   "source": [
    "# for key, val in fdata.items():\n",
    "#     print(\"val:\",val)\n",
    "#     print(\"key:\",key)\n",
    "#     for item in val.keys():\n",
    "#         # add node attribute:\n",
    "#         if item == \"relativeAbundance\":\n",
    "#             print(val[item])\n",
    "#             graph.nodes[key][item]=val[item]\n",
    "        \n",
    "#         # Get the directions:\n",
    "#         elif k == \"pathways\":\n",
    "#             # call edge drxn function \n",
    "#             continue"
   ]
  },
  {
   "cell_type": "markdown",
   "metadata": {},
   "source": [
    "# adding edge directions:\n"
   ]
  },
  {
   "cell_type": "code",
   "execution_count": 11,
   "metadata": {},
   "outputs": [
    {
     "name": "stdout",
     "output_type": "stream",
     "text": [
      "0.1\n",
      "{'pathA': {'in': 'a', 'out': ('b', 'c')}}\n",
      "0.4\n",
      "{'pathB': {'in': 'b', 'out': 'c'}}\n",
      "0.5\n",
      "{'pathC': {'in': 'c', 'out': ('a', 'b')}, 'pathD': {'in': 'c', 'out': 'd'}}\n"
     ]
    }
   ],
   "source": [
    "graph = nt.initialize_graph(fdata)"
   ]
  },
  {
   "cell_type": "code",
   "execution_count": 13,
   "metadata": {},
   "outputs": [
    {
     "data": {
      "text/plain": [
       "NodeView(('bacA', 'bacB', 'bacC', 'a', ('b', 'c'), 'b', 'c', ('a', 'b'), 'd'))"
      ]
     },
     "execution_count": 13,
     "metadata": {},
     "output_type": "execute_result"
    }
   ],
   "source": [
    "graph.nodes()"
   ]
  },
  {
   "cell_type": "code",
   "execution_count": null,
   "metadata": {},
   "outputs": [],
   "source": [
    "# for pathDict in path:\n",
    "    \n",
    "#     for key, val in pathDict.items():\n",
    "#         print(type(key))\n",
    "#         print(key, val)\n",
    "        \n",
    "#         graph.add_edge(val[\"in\"],val[\"out\"], pathway_name = key)\n",
    "#         print(val[\"in\"], val[\"out\"])"
   ]
  },
  {
   "cell_type": "code",
   "execution_count": null,
   "metadata": {},
   "outputs": [],
   "source": [
    "for e in graph.edges():\n",
    "    print(e)"
   ]
  },
  {
   "cell_type": "markdown",
   "metadata": {},
   "source": [
    "# Adding weight to the edges:"
   ]
  },
  {
   "cell_type": "code",
   "execution_count": null,
   "metadata": {},
   "outputs": [],
   "source": []
  },
  {
   "cell_type": "code",
   "execution_count": null,
   "metadata": {},
   "outputs": [],
   "source": []
  },
  {
   "cell_type": "code",
   "execution_count": null,
   "metadata": {},
   "outputs": [],
   "source": []
  },
  {
   "cell_type": "code",
   "execution_count": null,
   "metadata": {},
   "outputs": [],
   "source": []
  },
  {
   "cell_type": "code",
   "execution_count": null,
   "metadata": {},
   "outputs": [],
   "source": []
  },
  {
   "cell_type": "code",
   "execution_count": null,
   "metadata": {},
   "outputs": [],
   "source": []
  },
  {
   "cell_type": "markdown",
   "metadata": {},
   "source": [
    "# drawing graphs"
   ]
  },
  {
   "cell_type": "code",
   "execution_count": 16,
   "metadata": {},
   "outputs": [],
   "source": [
    "import matplotlib.pyplot as plt\n",
    "%matplotlib inline\n",
    "import networkx as nx"
   ]
  },
  {
   "cell_type": "code",
   "execution_count": 18,
   "metadata": {},
   "outputs": [
    {
     "data": {
      "image/png": "[encoded data removed]",
      "text/plain": [
       "<Figure size 432x288 with 1 Axes>"
      ]
     },
     "metadata": {},
     "output_type": "display_data"
    }
   ],
   "source": [
    "nx.draw(graph, with_labels = True)"
   ]
  },
  {
   "cell_type": "code",
   "execution_count": null,
   "metadata": {},
   "outputs": [],
   "source": [
    "nt.draw_network_graph(G)"
   ]
  },
  {
   "cell_type": "code",
   "execution_count": null,
   "metadata": {},
   "outputs": [],
   "source": []
  }
 ],
 "metadata": {
  "kernelspec": {
   "display_name": "Python 3",
   "language": "python",
   "name": "python3"
  },
  "language_info": {
   "codemirror_mode": {
    "name": "ipython",
    "version": 3
   },
   "file_extension": ".py",
   "mimetype": "text/x-python",
   "name": "python",
   "nbconvert_exporter": "python",
   "pygments_lexer": "ipython3",
   "version": "3.7.4"
  }
 },
 "nbformat": 4,
 "nbformat_minor": 2
}
