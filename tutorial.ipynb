{
 "cells": [
  {
   "cell_type": "markdown",
   "metadata": {},
   "source": [
    "# Package tutorial:\n",
    "### Creating a network analysis on a metabolic pathways of a microbiome\n",
    "\n",
    "----------"
   ]
  },
  {
   "cell_type": "markdown",
   "metadata": {},
   "source": [
    "### 1. Imporing the raw data saved as a .csv:  \n",
    "There is a sample .csv file in the Examples directory, which will be used in this tutorial. "
   ]
  },
  {
   "cell_type": "code",
   "execution_count": 1,
   "metadata": {},
   "outputs": [],
   "source": [
    "# Import appropriate module:\n",
    "import pandas as pd"
   ]
  },
  {
   "cell_type": "code",
   "execution_count": 2,
   "metadata": {},
   "outputs": [],
   "source": [
    "# Import the .csv file:\n",
    "raw_imported_csv = pd.read_csv(\"./Examples/sample_raw_input.csv\",\n",
    "                              nrows=1) "
   ]
  },
  {
   "cell_type": "code",
   "execution_count": 3,
   "metadata": {},
   "outputs": [
    {
     "data": {
      "text/html": [
       "<div>\n",
       "<style scoped>\n",
       "    .dataframe tbody tr th:only-of-type {\n",
       "        vertical-align: middle;\n",
       "    }\n",
       "\n",
       "    .dataframe tbody tr th {\n",
       "        vertical-align: top;\n",
       "    }\n",
       "\n",
       "    .dataframe thead th {\n",
       "        text-align: right;\n",
       "    }\n",
       "</style>\n",
       "<table border=\"1\" class=\"dataframe\">\n",
       "  <thead>\n",
       "    <tr style=\"text-align: right;\">\n",
       "      <th></th>\n",
       "      <th>L.lysine.fermentation.to.acetate.and.butanoate</th>\n",
       "      <th>pyruvate.fermentation.to.acetate.II</th>\n",
       "      <th>acetate.conversion.to.acetyl.CoA</th>\n",
       "      <th>L.lysine.biosynthesis.I</th>\n",
       "      <th>L.lysine.biosynthesis.III</th>\n",
       "      <th>L.lysine.biosynthesis.VI</th>\n",
       "      <th>acetate.formation.from.acetyl.CoA.I</th>\n",
       "      <th>acetoacetate.degradation..to.acetyl.CoA.</th>\n",
       "      <th>pyruvate.decarboxylation.to.acetyl.CoA</th>\n",
       "    </tr>\n",
       "  </thead>\n",
       "  <tbody>\n",
       "    <tr>\n",
       "      <td>0</td>\n",
       "      <td>24.129287</td>\n",
       "      <td>2.13025</td>\n",
       "      <td>34.141528</td>\n",
       "      <td>26.134562</td>\n",
       "      <td>53.470057</td>\n",
       "      <td>68.188032</td>\n",
       "      <td>94.161874</td>\n",
       "      <td>9.463964</td>\n",
       "      <td>21.280398</td>\n",
       "    </tr>\n",
       "  </tbody>\n",
       "</table>\n",
       "</div>"
      ],
      "text/plain": [
       "   L.lysine.fermentation.to.acetate.and.butanoate  \\\n",
       "0                                       24.129287   \n",
       "\n",
       "   pyruvate.fermentation.to.acetate.II  acetate.conversion.to.acetyl.CoA  \\\n",
       "0                              2.13025                         34.141528   \n",
       "\n",
       "   L.lysine.biosynthesis.I  L.lysine.biosynthesis.III  \\\n",
       "0                26.134562                  53.470057   \n",
       "\n",
       "   L.lysine.biosynthesis.VI  acetate.formation.from.acetyl.CoA.I  \\\n",
       "0                 68.188032                            94.161874   \n",
       "\n",
       "   acetoacetate.degradation..to.acetyl.CoA.  \\\n",
       "0                                  9.463964   \n",
       "\n",
       "   pyruvate.decarboxylation.to.acetyl.CoA  \n",
       "0                               21.280398  "
      ]
     },
     "execution_count": 3,
     "metadata": {},
     "output_type": "execute_result"
    }
   ],
   "source": [
    "# taking a quick look at what was imported:\n",
    "raw_imported_csv.head()"
   ]
  },
  {
   "cell_type": "markdown",
   "metadata": {},
   "source": [
    "As seen above, the sample dataset is in a 'wide' format. This needs to be converted into a 'long' format with two columns: a pathway names column and the corresponding relative abundance column."
   ]
  },
  {
   "cell_type": "code",
   "execution_count": 5,
   "metadata": {},
   "outputs": [],
   "source": [
    "# converting to a long format using Pandas' melt() function:\n",
    "long_data = pd.melt(raw_imported_csv,\n",
    "                   var_name=\"pathways\", #name of the variable column\n",
    "                   value_name=\"relative_abundance\" #name of the values column\n",
    "                   )"
   ]
  },
  {
   "cell_type": "code",
   "execution_count": 6,
   "metadata": {},
   "outputs": [
    {
     "data": {
      "text/html": [
       "<div>\n",
       "<style scoped>\n",
       "    .dataframe tbody tr th:only-of-type {\n",
       "        vertical-align: middle;\n",
       "    }\n",
       "\n",
       "    .dataframe tbody tr th {\n",
       "        vertical-align: top;\n",
       "    }\n",
       "\n",
       "    .dataframe thead th {\n",
       "        text-align: right;\n",
       "    }\n",
       "</style>\n",
       "<table border=\"1\" class=\"dataframe\">\n",
       "  <thead>\n",
       "    <tr style=\"text-align: right;\">\n",
       "      <th></th>\n",
       "      <th>pathways</th>\n",
       "      <th>relative_abundance</th>\n",
       "    </tr>\n",
       "  </thead>\n",
       "  <tbody>\n",
       "    <tr>\n",
       "      <td>0</td>\n",
       "      <td>L.lysine.fermentation.to.acetate.and.butanoate</td>\n",
       "      <td>24.129287</td>\n",
       "    </tr>\n",
       "    <tr>\n",
       "      <td>1</td>\n",
       "      <td>pyruvate.fermentation.to.acetate.II</td>\n",
       "      <td>2.130250</td>\n",
       "    </tr>\n",
       "    <tr>\n",
       "      <td>2</td>\n",
       "      <td>acetate.conversion.to.acetyl.CoA</td>\n",
       "      <td>34.141528</td>\n",
       "    </tr>\n",
       "    <tr>\n",
       "      <td>3</td>\n",
       "      <td>L.lysine.biosynthesis.I</td>\n",
       "      <td>26.134562</td>\n",
       "    </tr>\n",
       "    <tr>\n",
       "      <td>4</td>\n",
       "      <td>L.lysine.biosynthesis.III</td>\n",
       "      <td>53.470057</td>\n",
       "    </tr>\n",
       "    <tr>\n",
       "      <td>5</td>\n",
       "      <td>L.lysine.biosynthesis.VI</td>\n",
       "      <td>68.188032</td>\n",
       "    </tr>\n",
       "    <tr>\n",
       "      <td>6</td>\n",
       "      <td>acetate.formation.from.acetyl.CoA.I</td>\n",
       "      <td>94.161874</td>\n",
       "    </tr>\n",
       "    <tr>\n",
       "      <td>7</td>\n",
       "      <td>acetoacetate.degradation..to.acetyl.CoA.</td>\n",
       "      <td>9.463964</td>\n",
       "    </tr>\n",
       "    <tr>\n",
       "      <td>8</td>\n",
       "      <td>pyruvate.decarboxylation.to.acetyl.CoA</td>\n",
       "      <td>21.280398</td>\n",
       "    </tr>\n",
       "  </tbody>\n",
       "</table>\n",
       "</div>"
      ],
      "text/plain": [
       "                                         pathways  relative_abundance\n",
       "0  L.lysine.fermentation.to.acetate.and.butanoate           24.129287\n",
       "1             pyruvate.fermentation.to.acetate.II            2.130250\n",
       "2                acetate.conversion.to.acetyl.CoA           34.141528\n",
       "3                         L.lysine.biosynthesis.I           26.134562\n",
       "4                       L.lysine.biosynthesis.III           53.470057\n",
       "5                        L.lysine.biosynthesis.VI           68.188032\n",
       "6             acetate.formation.from.acetyl.CoA.I           94.161874\n",
       "7        acetoacetate.degradation..to.acetyl.CoA.            9.463964\n",
       "8          pyruvate.decarboxylation.to.acetyl.CoA           21.280398"
      ]
     },
     "execution_count": 6,
     "metadata": {},
     "output_type": "execute_result"
    }
   ],
   "source": [
    "# check how it looks now:\n",
    "long_data\n"
   ]
  },
  {
   "cell_type": "markdown",
   "metadata": {},
   "source": [
    "As seen above, the converted data table now is in a 'long' format with the left colun labeled 'pathways' containing the names of the pathway as string with formatting directly from another pipeline (paprica). The right column contains float values representing relative abundance of the corresponding pathways. "
   ]
  },
  {
   "cell_type": "markdown",
   "metadata": {},
   "source": [
    "This must now be formatted to fit the input criteria for creating a multi-directed network graph using `networkx`. "
   ]
  },
  {
   "cell_type": "markdown",
   "metadata": {},
   "source": [
    "### 2. Cleaning up and formatting the input data for network analysis"
   ]
  },
  {
   "cell_type": "markdown",
   "metadata": {},
   "source": [
    "Network graphs are composed of nodes connected by edges. In this example, it will be a multi-directed graph, which is a type of network graph where there can be multiple edges between the same nodes in a specified direction, which also holds a 'weight' attribute. \n",
    "\n",
    "In this example, the nodes will be the metabolites and the edges will connect in the direction of the pathway that connects the nodes. For example, if metabolite A gets converted to metabolite B, then the edge would be drawn from metabolite A to metabolite B. This edge will also be assigned a 'weight,' which will be the values in the relative abundance column in this example. "
   ]
  },
  {
   "cell_type": "markdown",
   "metadata": {},
   "source": [
    "##### 2a. Parsing out the pathway names into inputs and outputs"
   ]
  },
  {
   "cell_type": "markdown",
   "metadata": {},
   "source": [
    "Since the raw example data came from another pipeline, its pathway names follow a specific naming conventions. In this example, we know what this convention looks like, and which part to parse out. "
   ]
  },
  {
   "cell_type": "code",
   "execution_count": 17,
   "metadata": {},
   "outputs": [
    {
     "name": "stdout",
     "output_type": "stream",
     "text": [
      "Example of a formatted pathway item:\n",
      " L.lysine.fermentation.to.acetate.and.butanoate\n"
     ]
    }
   ],
   "source": [
    "print(\"Example of a formatted pathway item:\\n\",long_data.iloc[0,0])"
   ]
  },
  {
   "cell_type": "markdown",
   "metadata": {},
   "source": [
    "As you can see above, in a single pathway name, it contains information of the originating node and the metabolite products of this pathway, which will be the receiving nodes. \n",
    "\n",
    "In order to create a network graph, we must parse out the starting nodes(source) and the target nodes(target).\n",
    "\n",
    "This will be done using a RegEx based function in a script named: `pathway_input_cleanup.py`"
   ]
  },
  {
   "cell_type": "code",
   "execution_count": 26,
   "metadata": {},
   "outputs": [
    {
     "ename": "SyntaxError",
     "evalue": "invalid syntax (<ipython-input-26-49ca3d3627e9>, line 1)",
     "output_type": "error",
     "traceback": [
      "\u001b[0;36m  File \u001b[0;32m\"<ipython-input-26-49ca3d3627e9>\"\u001b[0;36m, line \u001b[0;32m1\u001b[0m\n\u001b[0;31m    import .scripts.pathway_input_cleanup as pic\u001b[0m\n\u001b[0m           ^\u001b[0m\n\u001b[0;31mSyntaxError\u001b[0m\u001b[0;31m:\u001b[0m invalid syntax\n"
     ]
    }
   ],
   "source": [
    "import .scripts.pathway_input_cleanup as pic"
   ]
  },
  {
   "cell_type": "code",
   "execution_count": null,
   "metadata": {},
   "outputs": [],
   "source": []
  }
 ],
 "metadata": {
  "kernelspec": {
   "display_name": "Python 3",
   "language": "python",
   "name": "python3"
  },
  "language_info": {
   "codemirror_mode": {
    "name": "ipython",
    "version": 3
   },
   "file_extension": ".py",
   "mimetype": "text/x-python",
   "name": "python",
   "nbconvert_exporter": "python",
   "pygments_lexer": "ipython3",
   "version": "3.7.4"
  }
 },
 "nbformat": 4,
 "nbformat_minor": 2
}
