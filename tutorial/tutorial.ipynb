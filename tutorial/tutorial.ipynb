{
 "cells": [
  {
   "cell_type": "markdown",
   "metadata": {},
   "source": [
    "# Package tutorial:\n",
    "### Creating a network analysis on a metabolic pathways of a microbiome\n",
    "\n",
    "----------"
   ]
  },
  {
   "cell_type": "markdown",
   "metadata": {},
   "source": [
    "### 1. Imporing the raw data saved as a .csv:  \n",
    "There is a sample .csv file in the Examples directory, which will be used in this tutorial. "
   ]
  },
  {
   "cell_type": "code",
   "execution_count": null,
   "metadata": {},
   "outputs": [],
   "source": [
    "# Import appropriate module:\n",
    "import pandas as pd"
   ]
  },
  {
   "cell_type": "code",
   "execution_count": null,
   "metadata": {},
   "outputs": [],
   "source": [
    "# Import the .csv file:\n",
    "raw_imported_csv = pd.read_csv(\"../Examples/sample_raw_input.csv\",\n",
    "                              nrows=1) "
   ]
  },
  {
   "cell_type": "code",
   "execution_count": null,
   "metadata": {},
   "outputs": [],
   "source": [
    "# taking a quick look at what was imported:\n",
    "raw_imported_csv.head()"
   ]
  },
  {
   "cell_type": "markdown",
   "metadata": {},
   "source": [
    "As seen above, the sample dataset is in a 'wide' format. This needs to be converted into a 'long' format with two columns: a pathway names column and the corresponding relative abundance column."
   ]
  },
  {
   "cell_type": "code",
   "execution_count": null,
   "metadata": {},
   "outputs": [],
   "source": [
    "# converting to a long format using Pandas' melt() function:\n",
    "long_data = pd.melt(raw_imported_csv,\n",
    "                   var_name=\"pathways\", #name of the variable column\n",
    "                   value_name=\"relative_abundance\" #name of the values column\n",
    "                   )"
   ]
  },
  {
   "cell_type": "code",
   "execution_count": null,
   "metadata": {},
   "outputs": [],
   "source": [
    "# check how it looks now:\n",
    "long_data\n"
   ]
  },
  {
   "cell_type": "markdown",
   "metadata": {},
   "source": [
    "As seen above, the converted data table now is in a 'long' format with the left colun labeled 'pathways' containing the names of the pathway as string with formatting directly from another pipeline (paprica). The right column contains float values representing relative abundance of the corresponding pathways. "
   ]
  },
  {
   "cell_type": "markdown",
   "metadata": {},
   "source": [
    "This must now be formatted to fit the input criteria for creating a multi-directed network graph using `networkx`. "
   ]
  },
  {
   "cell_type": "markdown",
   "metadata": {},
   "source": [
    "### 2. Cleaning up and formatting the input data for network analysis"
   ]
  },
  {
   "cell_type": "markdown",
   "metadata": {},
   "source": [
    "Network graphs are composed of nodes connected by edges. In this example, it will be a multi-directed graph, which is a type of network graph where there can be multiple edges between the same nodes in a specified direction, which also holds a 'weight' attribute. \n",
    "\n",
    "In this example, the nodes will be the metabolites and the edges will connect in the direction of the pathway that connects the nodes. For example, if metabolite A gets converted to metabolite B, then the edge would be drawn from metabolite A to metabolite B. This edge will also be assigned a 'weight,' which will be the values in the relative abundance column in this example. "
   ]
  },
  {
   "cell_type": "markdown",
   "metadata": {},
   "source": [
    "##### 2a. Parsing out the pathway names into inputs and outputs"
   ]
  },
  {
   "cell_type": "markdown",
   "metadata": {},
   "source": [
    "Since the raw example data came from another pipeline, its pathway names follow a specific naming conventions. In this example, we know what this convention looks like, and which part to parse out. "
   ]
  },
  {
   "cell_type": "code",
   "execution_count": null,
   "metadata": {},
   "outputs": [],
   "source": [
    "print(\"Example of a formatted pathway item:\\n\",long_data.iloc[0,0])"
   ]
  },
  {
   "cell_type": "markdown",
   "metadata": {},
   "source": [
    "As you can see above, in a single pathway name, it contains information of the originating node and the metabolite products of this pathway, which will be the receiving nodes. \n",
    "\n",
    "In order to create a network graph, we must parse out the starting nodes(source) and the target nodes(target).\n",
    "\n",
    "This will be done using a RegEx based function in a script named: `pathway_input_cleanup.py`"
   ]
  },
  {
   "cell_type": "code",
   "execution_count": null,
   "metadata": {},
   "outputs": [],
   "source": [
    "import pathway_input_cleanup as pic"
   ]
  },
  {
   "cell_type": "code",
   "execution_count": null,
   "metadata": {},
   "outputs": [],
   "source": [
    "formatted_data = pic.parse_paprica_paths(long_data)"
   ]
  },
  {
   "cell_type": "code",
   "execution_count": null,
   "metadata": {},
   "outputs": [],
   "source": [
    "formatted_data.head()"
   ]
  },
  {
   "cell_type": "markdown",
   "metadata": {},
   "source": [
    "### 3. Creating and Drawing the network graph with networkx:"
   ]
  },
  {
   "cell_type": "markdown",
   "metadata": {},
   "source": [
    "import the script that has the functions needed for this task. "
   ]
  },
  {
   "cell_type": "code",
   "execution_count": null,
   "metadata": {},
   "outputs": [],
   "source": [
    "import network_analysis as nta"
   ]
  },
  {
   "cell_type": "markdown",
   "metadata": {},
   "source": [
    "#### 3a. Creating a networkx graph:"
   ]
  },
  {
   "cell_type": "code",
   "execution_count": null,
   "metadata": {},
   "outputs": [],
   "source": [
    "graph = nta.initialize_graph(formatted_data)"
   ]
  },
  {
   "cell_type": "markdown",
   "metadata": {},
   "source": [
    "#### 3b. Drawing the network graph:"
   ]
  },
  {
   "cell_type": "code",
   "execution_count": null,
   "metadata": {},
   "outputs": [],
   "source": [
    "# make sure the graph shows up:\n",
    "import matplotlib.pyplot as plt\n",
    "%matplotlib inline\n",
    "\n",
    "# drawing the graph:\n",
    "nta.draw_network_graph(graph)"
   ]
  },
  {
   "cell_type": "markdown",
   "metadata": {},
   "source": [
    "##### Optional: save the above figure:\n",
    "below code block will save the figure created above to this current directory."
   ]
  },
  {
   "cell_type": "code",
   "execution_count": null,
   "metadata": {},
   "outputs": [],
   "source": [
    "plt.savefig(\"Example_graph.png\")"
   ]
  },
  {
   "cell_type": "code",
   "execution_count": null,
   "metadata": {},
   "outputs": [],
   "source": []
  }
 ],
 "metadata": {
  "kernelspec": {
   "display_name": "Python 3",
   "language": "python",
   "name": "python3"
  },
  "language_info": {
   "codemirror_mode": {
    "name": "ipython",
    "version": 3
   },
   "file_extension": ".py",
   "mimetype": "text/x-python",
   "name": "python",
   "nbconvert_exporter": "python",
   "pygments_lexer": "ipython3",
   "version": "3.7.4"
  }
 },
 "nbformat": 4,
 "nbformat_minor": 2
}
